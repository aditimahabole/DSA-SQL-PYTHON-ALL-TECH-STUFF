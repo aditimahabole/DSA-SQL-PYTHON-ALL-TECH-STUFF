{
  "nbformat": 4,
  "nbformat_minor": 0,
  "metadata": {
    "colab": {
      "provenance": [],
      "gpuType": "T4",
      "authorship_tag": "ABX9TyPa6aSCEnqKWktGFeoiu6wY",
      "include_colab_link": true
    },
    "kernelspec": {
      "name": "python3",
      "display_name": "Python 3"
    },
    "language_info": {
      "name": "python"
    },
    "accelerator": "GPU"
  },
  "cells": [
    {
      "cell_type": "markdown",
      "metadata": {
        "id": "view-in-github",
        "colab_type": "text"
      },
      "source": [
        "<a href=\"https://colab.research.google.com/github/aditimahabole/chunnubola/blob/master/ANN.ipynb\" target=\"_parent\"><img src=\"https://colab.research.google.com/assets/colab-badge.svg\" alt=\"Open In Colab\"/></a>"
      ]
    },
    {
      "cell_type": "code",
      "source": [
        "import tensorflow as tf \n",
        "print(tf.__version__)"
      ],
      "metadata": {
        "colab": {
          "base_uri": "https://localhost:8080/"
        },
        "id": "JkfNHMXKX2L2",
        "outputId": "a00c9d68-0414-4c7e-9ba3-7a4a218271f9"
      },
      "execution_count": 34,
      "outputs": [
        {
          "output_type": "stream",
          "name": "stdout",
          "text": [
            "2.12.0\n"
          ]
        }
      ]
    },
    {
      "cell_type": "markdown",
      "source": [
        "# **Import Basic Libraries**"
      ],
      "metadata": {
        "id": "SbzZRugpYw79"
      }
    },
    {
      "cell_type": "code",
      "source": [
        "import numpy as np\n",
        "import matplotlib.pyplot as plt\n",
        "import pandas as pd\n"
      ],
      "metadata": {
        "id": "lLJoq2Z3X2Oj"
      },
      "execution_count": 35,
      "outputs": []
    },
    {
      "cell_type": "markdown",
      "source": [
        "# **Read Dataset**"
      ],
      "metadata": {
        "id": "5hxLn0-xZANb"
      }
    },
    {
      "cell_type": "code",
      "source": [
        "dataset = pd.read_csv('/content/Churn_Modelling.csv')\n",
        "dataset.head()\n",
        "# this is a binary classification\n",
        "# we are predicting we customers are leaving bank or not"
      ],
      "metadata": {
        "colab": {
          "base_uri": "https://localhost:8080/",
          "height": 270
        },
        "id": "mgrHB37JX2TU",
        "outputId": "3989b636-7494-4dd2-da3a-a7851c6bea55"
      },
      "execution_count": 36,
      "outputs": [
        {
          "output_type": "execute_result",
          "data": {
            "text/plain": [
              "   RowNumber  CustomerId   Surname  CreditScore Geography  Gender  Age  \\\n",
              "0          1    15634602  Hargrave          619    France  Female   42   \n",
              "1          2    15647311      Hill          608     Spain  Female   41   \n",
              "2          3    15619304      Onio          502    France  Female   42   \n",
              "3          4    15701354      Boni          699    France  Female   39   \n",
              "4          5    15737888  Mitchell          850     Spain  Female   43   \n",
              "\n",
              "   Tenure    Balance  NumOfProducts  HasCrCard  IsActiveMember  \\\n",
              "0       2       0.00              1          1               1   \n",
              "1       1   83807.86              1          0               1   \n",
              "2       8  159660.80              3          1               0   \n",
              "3       1       0.00              2          0               0   \n",
              "4       2  125510.82              1          1               1   \n",
              "\n",
              "   EstimatedSalary  Exited  \n",
              "0        101348.88       1  \n",
              "1        112542.58       0  \n",
              "2        113931.57       1  \n",
              "3         93826.63       0  \n",
              "4         79084.10       0  "
            ],
            "text/html": [
              "\n",
              "  <div id=\"df-8d08b07d-4acd-40b3-8afe-f65ca40615e2\">\n",
              "    <div class=\"colab-df-container\">\n",
              "      <div>\n",
              "<style scoped>\n",
              "    .dataframe tbody tr th:only-of-type {\n",
              "        vertical-align: middle;\n",
              "    }\n",
              "\n",
              "    .dataframe tbody tr th {\n",
              "        vertical-align: top;\n",
              "    }\n",
              "\n",
              "    .dataframe thead th {\n",
              "        text-align: right;\n",
              "    }\n",
              "</style>\n",
              "<table border=\"1\" class=\"dataframe\">\n",
              "  <thead>\n",
              "    <tr style=\"text-align: right;\">\n",
              "      <th></th>\n",
              "      <th>RowNumber</th>\n",
              "      <th>CustomerId</th>\n",
              "      <th>Surname</th>\n",
              "      <th>CreditScore</th>\n",
              "      <th>Geography</th>\n",
              "      <th>Gender</th>\n",
              "      <th>Age</th>\n",
              "      <th>Tenure</th>\n",
              "      <th>Balance</th>\n",
              "      <th>NumOfProducts</th>\n",
              "      <th>HasCrCard</th>\n",
              "      <th>IsActiveMember</th>\n",
              "      <th>EstimatedSalary</th>\n",
              "      <th>Exited</th>\n",
              "    </tr>\n",
              "  </thead>\n",
              "  <tbody>\n",
              "    <tr>\n",
              "      <th>0</th>\n",
              "      <td>1</td>\n",
              "      <td>15634602</td>\n",
              "      <td>Hargrave</td>\n",
              "      <td>619</td>\n",
              "      <td>France</td>\n",
              "      <td>Female</td>\n",
              "      <td>42</td>\n",
              "      <td>2</td>\n",
              "      <td>0.00</td>\n",
              "      <td>1</td>\n",
              "      <td>1</td>\n",
              "      <td>1</td>\n",
              "      <td>101348.88</td>\n",
              "      <td>1</td>\n",
              "    </tr>\n",
              "    <tr>\n",
              "      <th>1</th>\n",
              "      <td>2</td>\n",
              "      <td>15647311</td>\n",
              "      <td>Hill</td>\n",
              "      <td>608</td>\n",
              "      <td>Spain</td>\n",
              "      <td>Female</td>\n",
              "      <td>41</td>\n",
              "      <td>1</td>\n",
              "      <td>83807.86</td>\n",
              "      <td>1</td>\n",
              "      <td>0</td>\n",
              "      <td>1</td>\n",
              "      <td>112542.58</td>\n",
              "      <td>0</td>\n",
              "    </tr>\n",
              "    <tr>\n",
              "      <th>2</th>\n",
              "      <td>3</td>\n",
              "      <td>15619304</td>\n",
              "      <td>Onio</td>\n",
              "      <td>502</td>\n",
              "      <td>France</td>\n",
              "      <td>Female</td>\n",
              "      <td>42</td>\n",
              "      <td>8</td>\n",
              "      <td>159660.80</td>\n",
              "      <td>3</td>\n",
              "      <td>1</td>\n",
              "      <td>0</td>\n",
              "      <td>113931.57</td>\n",
              "      <td>1</td>\n",
              "    </tr>\n",
              "    <tr>\n",
              "      <th>3</th>\n",
              "      <td>4</td>\n",
              "      <td>15701354</td>\n",
              "      <td>Boni</td>\n",
              "      <td>699</td>\n",
              "      <td>France</td>\n",
              "      <td>Female</td>\n",
              "      <td>39</td>\n",
              "      <td>1</td>\n",
              "      <td>0.00</td>\n",
              "      <td>2</td>\n",
              "      <td>0</td>\n",
              "      <td>0</td>\n",
              "      <td>93826.63</td>\n",
              "      <td>0</td>\n",
              "    </tr>\n",
              "    <tr>\n",
              "      <th>4</th>\n",
              "      <td>5</td>\n",
              "      <td>15737888</td>\n",
              "      <td>Mitchell</td>\n",
              "      <td>850</td>\n",
              "      <td>Spain</td>\n",
              "      <td>Female</td>\n",
              "      <td>43</td>\n",
              "      <td>2</td>\n",
              "      <td>125510.82</td>\n",
              "      <td>1</td>\n",
              "      <td>1</td>\n",
              "      <td>1</td>\n",
              "      <td>79084.10</td>\n",
              "      <td>0</td>\n",
              "    </tr>\n",
              "  </tbody>\n",
              "</table>\n",
              "</div>\n",
              "      <button class=\"colab-df-convert\" onclick=\"convertToInteractive('df-8d08b07d-4acd-40b3-8afe-f65ca40615e2')\"\n",
              "              title=\"Convert this dataframe to an interactive table.\"\n",
              "              style=\"display:none;\">\n",
              "        \n",
              "  <svg xmlns=\"http://www.w3.org/2000/svg\" height=\"24px\"viewBox=\"0 0 24 24\"\n",
              "       width=\"24px\">\n",
              "    <path d=\"M0 0h24v24H0V0z\" fill=\"none\"/>\n",
              "    <path d=\"M18.56 5.44l.94 2.06.94-2.06 2.06-.94-2.06-.94-.94-2.06-.94 2.06-2.06.94zm-11 1L8.5 8.5l.94-2.06 2.06-.94-2.06-.94L8.5 2.5l-.94 2.06-2.06.94zm10 10l.94 2.06.94-2.06 2.06-.94-2.06-.94-.94-2.06-.94 2.06-2.06.94z\"/><path d=\"M17.41 7.96l-1.37-1.37c-.4-.4-.92-.59-1.43-.59-.52 0-1.04.2-1.43.59L10.3 9.45l-7.72 7.72c-.78.78-.78 2.05 0 2.83L4 21.41c.39.39.9.59 1.41.59.51 0 1.02-.2 1.41-.59l7.78-7.78 2.81-2.81c.8-.78.8-2.07 0-2.86zM5.41 20L4 18.59l7.72-7.72 1.47 1.35L5.41 20z\"/>\n",
              "  </svg>\n",
              "      </button>\n",
              "      \n",
              "  <style>\n",
              "    .colab-df-container {\n",
              "      display:flex;\n",
              "      flex-wrap:wrap;\n",
              "      gap: 12px;\n",
              "    }\n",
              "\n",
              "    .colab-df-convert {\n",
              "      background-color: #E8F0FE;\n",
              "      border: none;\n",
              "      border-radius: 50%;\n",
              "      cursor: pointer;\n",
              "      display: none;\n",
              "      fill: #1967D2;\n",
              "      height: 32px;\n",
              "      padding: 0 0 0 0;\n",
              "      width: 32px;\n",
              "    }\n",
              "\n",
              "    .colab-df-convert:hover {\n",
              "      background-color: #E2EBFA;\n",
              "      box-shadow: 0px 1px 2px rgba(60, 64, 67, 0.3), 0px 1px 3px 1px rgba(60, 64, 67, 0.15);\n",
              "      fill: #174EA6;\n",
              "    }\n",
              "\n",
              "    [theme=dark] .colab-df-convert {\n",
              "      background-color: #3B4455;\n",
              "      fill: #D2E3FC;\n",
              "    }\n",
              "\n",
              "    [theme=dark] .colab-df-convert:hover {\n",
              "      background-color: #434B5C;\n",
              "      box-shadow: 0px 1px 3px 1px rgba(0, 0, 0, 0.15);\n",
              "      filter: drop-shadow(0px 1px 2px rgba(0, 0, 0, 0.3));\n",
              "      fill: #FFFFFF;\n",
              "    }\n",
              "  </style>\n",
              "\n",
              "      <script>\n",
              "        const buttonEl =\n",
              "          document.querySelector('#df-8d08b07d-4acd-40b3-8afe-f65ca40615e2 button.colab-df-convert');\n",
              "        buttonEl.style.display =\n",
              "          google.colab.kernel.accessAllowed ? 'block' : 'none';\n",
              "\n",
              "        async function convertToInteractive(key) {\n",
              "          const element = document.querySelector('#df-8d08b07d-4acd-40b3-8afe-f65ca40615e2');\n",
              "          const dataTable =\n",
              "            await google.colab.kernel.invokeFunction('convertToInteractive',\n",
              "                                                     [key], {});\n",
              "          if (!dataTable) return;\n",
              "\n",
              "          const docLinkHtml = 'Like what you see? Visit the ' +\n",
              "            '<a target=\"_blank\" href=https://colab.research.google.com/notebooks/data_table.ipynb>data table notebook</a>'\n",
              "            + ' to learn more about interactive tables.';\n",
              "          element.innerHTML = '';\n",
              "          dataTable['output_type'] = 'display_data';\n",
              "          await google.colab.output.renderOutput(dataTable, element);\n",
              "          const docLink = document.createElement('div');\n",
              "          docLink.innerHTML = docLinkHtml;\n",
              "          element.appendChild(docLink);\n",
              "        }\n",
              "      </script>\n",
              "    </div>\n",
              "  </div>\n",
              "  "
            ]
          },
          "metadata": {},
          "execution_count": 36
        }
      ]
    },
    {
      "cell_type": "markdown",
      "source": [
        "# **Divide into dependent and Independent Features**"
      ],
      "metadata": {
        "id": "u9Y7nXIYZr2Y"
      }
    },
    {
      "cell_type": "code",
      "source": [
        "X =dataset.iloc[:,3:13]\n",
        "# iloc = index location\n",
        "# all rows , col 3 to 12th\n",
        "y = dataset.iloc[:,13]\n",
        "print(X.head())"
      ],
      "metadata": {
        "colab": {
          "base_uri": "https://localhost:8080/"
        },
        "id": "5rdGW9XdX2Vu",
        "outputId": "8998218b-050d-48fe-a9b0-cb53f86bc61c"
      },
      "execution_count": 37,
      "outputs": [
        {
          "output_type": "stream",
          "name": "stdout",
          "text": [
            "   CreditScore Geography  Gender  Age  Tenure    Balance  NumOfProducts  \\\n",
            "0          619    France  Female   42       2       0.00              1   \n",
            "1          608     Spain  Female   41       1   83807.86              1   \n",
            "2          502    France  Female   42       8  159660.80              3   \n",
            "3          699    France  Female   39       1       0.00              2   \n",
            "4          850     Spain  Female   43       2  125510.82              1   \n",
            "\n",
            "   HasCrCard  IsActiveMember  EstimatedSalary  \n",
            "0          1               1        101348.88  \n",
            "1          0               1        112542.58  \n",
            "2          1               0        113931.57  \n",
            "3          0               0         93826.63  \n",
            "4          1               1         79084.10  \n"
          ]
        }
      ]
    },
    {
      "cell_type": "markdown",
      "source": [
        "# **Feature Engineering**"
      ],
      "metadata": {
        "id": "vi2vtEaBatYv"
      }
    },
    {
      "cell_type": "code",
      "source": [
        "# second param will give only 2 cols\n",
        "#  we are converting the categories into columns\n",
        "# suppose we have 3 categoreis like fance germany spain\n",
        "# so columns will be made and 1 , 0 is put if value is present\n",
        "geography  = pd.get_dummies(X['Geography'],drop_first=True)\n",
        "gender = pd.get_dummies(X['Gender'],drop_first=True)"
      ],
      "metadata": {
        "id": "r08MUWhZX2Ye"
      },
      "execution_count": 38,
      "outputs": []
    },
    {
      "cell_type": "markdown",
      "source": [
        "# **Concatinate variables with dataframe**"
      ],
      "metadata": {
        "id": "acEWOaZkcKS_"
      }
    },
    {
      "cell_type": "code",
      "source": [
        "X = X.drop(['Geography','Gender'],axis = 1)\n",
        "# dropping these 2 cols and axis 1 ensures to drop the col and not rows\n"
      ],
      "metadata": {
        "id": "HZbMkCpVcRcc"
      },
      "execution_count": 39,
      "outputs": []
    },
    {
      "cell_type": "code",
      "source": [
        "X = pd.concat([X,geography,gender], axis = 1)"
      ],
      "metadata": {
        "id": "5Pmrke9EcTCX"
      },
      "execution_count": 40,
      "outputs": []
    },
    {
      "cell_type": "markdown",
      "source": [
        "# **Splitting dataset into Training and Testing**"
      ],
      "metadata": {
        "id": "rMXnfdhJeMsh"
      }
    },
    {
      "cell_type": "code",
      "source": [
        "from sklearn.model_selection import train_test_split\n",
        "\n",
        "X_train,X_test,y_train,y_test = train_test_split(X,y,test_size=0.2,random_state = 0)"
      ],
      "metadata": {
        "id": "c_8XNmwfciYC"
      },
      "execution_count": 41,
      "outputs": []
    },
    {
      "cell_type": "markdown",
      "source": [
        "# **Feature Scaling**"
      ],
      "metadata": {
        "id": "t22bs0V6fPZm"
      }
    },
    {
      "cell_type": "code",
      "source": [
        "# feature scaling is req in algos that are distance related , it is also req in gradient descent problems\n",
        "from sklearn.preprocessing import StandardScaler\n",
        "sc = StandardScaler()\n",
        "# Scaling typically means adjusting the values so they fall within a specific range or have a particular distribution\n",
        "# The purpose of scaling is to make the data more comparable and easier to work with during the training process."
      ],
      "metadata": {
        "id": "8K9kOCV2cjBf"
      },
      "execution_count": 42,
      "outputs": []
    },
    {
      "cell_type": "code",
      "source": [
        "# The reason we only apply fit_transform() to the training dataset and not the test dataset is to prevent information leakage.\n",
        "# If you were to fit and transform both the training and test datasets together, the scaler would learn from information \n",
        "# in the test data that should ideally be unknown during the training phase. \n",
        "X_train = sc.fit_transform(X_train)\n",
        "X_test = sc.transform(X_test)\n"
      ],
      "metadata": {
        "id": "fu-M8bCycjuB"
      },
      "execution_count": 43,
      "outputs": []
    },
    {
      "cell_type": "code",
      "source": [
        "X_train"
      ],
      "metadata": {
        "colab": {
          "base_uri": "https://localhost:8080/"
        },
        "id": "SgHU9dd7ckie",
        "outputId": "505ae595-b239-4d7c-c450-2ab15d667b46"
      },
      "execution_count": 44,
      "outputs": [
        {
          "output_type": "execute_result",
          "data": {
            "text/plain": [
              "array([[ 0.16958176, -0.46460796,  0.00666099, ..., -0.5698444 ,\n",
              "         1.74309049, -1.09168714],\n",
              "       [-2.30455945,  0.30102557, -1.37744033, ...,  1.75486502,\n",
              "        -0.57369368,  0.91601335],\n",
              "       [-1.19119591, -0.94312892, -1.031415  , ..., -0.5698444 ,\n",
              "        -0.57369368, -1.09168714],\n",
              "       ...,\n",
              "       [ 0.9015152 , -0.36890377,  0.00666099, ..., -0.5698444 ,\n",
              "        -0.57369368,  0.91601335],\n",
              "       [-0.62420521, -0.08179119,  1.39076231, ..., -0.5698444 ,\n",
              "         1.74309049, -1.09168714],\n",
              "       [-0.28401079,  0.87525072, -1.37744033, ...,  1.75486502,\n",
              "        -0.57369368, -1.09168714]])"
            ]
          },
          "metadata": {},
          "execution_count": 44
        }
      ]
    },
    {
      "cell_type": "code",
      "source": [
        "X_train.shape"
      ],
      "metadata": {
        "id": "5lN0Qj8hcmsB",
        "colab": {
          "base_uri": "https://localhost:8080/"
        },
        "outputId": "dd355204-1e9a-425a-cfca-adc78e7a1716"
      },
      "execution_count": 45,
      "outputs": [
        {
          "output_type": "execute_result",
          "data": {
            "text/plain": [
              "(8000, 11)"
            ]
          },
          "metadata": {},
          "execution_count": 45
        }
      ]
    },
    {
      "cell_type": "markdown",
      "source": [
        "# **PART 2 Create ANN**"
      ],
      "metadata": {
        "id": "50Bq14BU32yk"
      }
    },
    {
      "cell_type": "code",
      "source": [
        "from tensorflow.keras.models import Sequential\n",
        "from tensorflow.keras.layers import Dense\n",
        "from tensorflow.keras.layers import LeakyReLU,PReLU,ELU,ReLU\n",
        "from tensorflow.keras.layers import Dropout"
      ],
      "metadata": {
        "id": "6qmpEjPzfQmE"
      },
      "execution_count": 46,
      "outputs": []
    },
    {
      "cell_type": "code",
      "source": [
        "#Initialize ANN layer\n",
        "classifier = Sequential()"
      ],
      "metadata": {
        "id": "utSWDgfO5OHb"
      },
      "execution_count": 47,
      "outputs": []
    },
    {
      "cell_type": "code",
      "source": [
        "#Adding Input Layer\n",
        "classifier.add(Dense(units = 11,activation = 'relu'))"
      ],
      "metadata": {
        "id": "eBlL6s9wfRXg"
      },
      "execution_count": 48,
      "outputs": []
    },
    {
      "cell_type": "code",
      "source": [
        "#Adding FIrst HIdden Layer\n",
        "classifier.add(Dense(units = 7,activation = 'relu'))"
      ],
      "metadata": {
        "id": "__Q26bJIfbfq"
      },
      "execution_count": 49,
      "outputs": []
    },
    {
      "cell_type": "code",
      "source": [
        "#Adding Second HIdden Layer\n",
        "classifier.add(Dense(units = 6,activation = 'relu'))"
      ],
      "metadata": {
        "id": "aD_fgcGyfbcK"
      },
      "execution_count": 50,
      "outputs": []
    },
    {
      "cell_type": "code",
      "source": [
        "#Adding Output Layer\n",
        "classifier.add(Dense(1,activation = 'sigmoid'))"
      ],
      "metadata": {
        "id": "nxt0D7aCfbZ8"
      },
      "execution_count": 51,
      "outputs": []
    },
    {
      "cell_type": "markdown",
      "source": [
        "# **Train Neural Network**"
      ],
      "metadata": {
        "id": "cUJgTZ9B75PH"
      }
    },
    {
      "cell_type": "code",
      "source": [],
      "metadata": {
        "id": "YtXdRdMvfbXu"
      },
      "execution_count": 27,
      "outputs": []
    },
    {
      "cell_type": "code",
      "source": [
        "import tensorflow\n",
        "opt = tensorflow.keras.optimizers.Adam(learning_rate = 0.01)"
      ],
      "metadata": {
        "id": "s4xFabp5fbU9"
      },
      "execution_count": 52,
      "outputs": []
    },
    {
      "cell_type": "code",
      "source": [
        "classifier.compile(optimizer = opt ,loss = 'binary_crossentropy', metrics = ['accuracy'])\n",
        "#Adam uses learning rate of 0.1 as default optimizer = 'adam'"
      ],
      "metadata": {
        "id": "x5ESZXxpfbSV"
      },
      "execution_count": 53,
      "outputs": []
    },
    {
      "cell_type": "code",
      "source": [
        "#early stopping : this is used when accuracy is coming same almost so stop training\n",
        "import tensorflow as tf\n",
        "early_stopping = tf.keras.callbacks.EarlyStopping(\n",
        "    monitor = \"val_lbss\",\n",
        "    min_delta=0.0001,\n",
        "    patience = 20,\n",
        "    verbose=1,\n",
        "    mode=\"auto\",\n",
        "    baseline = None,\n",
        "    restore_best_weights=False,\n",
        "\n",
        ")"
      ],
      "metadata": {
        "id": "D2nHZes9-Ght"
      },
      "execution_count": 54,
      "outputs": []
    },
    {
      "cell_type": "code",
      "source": [
        "model_history = classifier.fit(X_train,y_train,validation_split = 0.33,batch_size = 10,epochs = 100,callbacks = early_stopping)"
      ],
      "metadata": {
        "id": "lpSDR4SAfbPl",
        "colab": {
          "base_uri": "https://localhost:8080/"
        },
        "outputId": "3c9f4aed-0099-4b36-b485-cfab0fa81ac0"
      },
      "execution_count": 56,
      "outputs": [
        {
          "output_type": "stream",
          "name": "stdout",
          "text": [
            "Epoch 1/100\n",
            "524/536 [============================>.] - ETA: 0s - loss: 0.3264 - accuracy: 0.8632"
          ]
        },
        {
          "output_type": "stream",
          "name": "stderr",
          "text": [
            "WARNING:tensorflow:Early stopping conditioned on metric `val_lbss` which is not available. Available metrics are: loss,accuracy,val_loss,val_accuracy\n"
          ]
        },
        {
          "output_type": "stream",
          "name": "stdout",
          "text": [
            "\b\b\b\b\b\b\b\b\b\b\b\b\b\b\b\b\b\b\b\b\b\b\b\b\b\b\b\b\b\b\b\b\b\b\b\b\b\b\b\b\b\b\b\b\b\b\b\b\b\b\b\b\b\b\b\b\b\b\b\b\b\b\b\b\b\b\b\b\b\b\b\b\b\b\b\b\b\b\b\b\b\b\b\b\r536/536 [==============================] - 2s 4ms/step - loss: 0.3266 - accuracy: 0.8630 - val_loss: 0.3745 - val_accuracy: 0.8489\n",
            "Epoch 2/100\n",
            "532/536 [============================>.] - ETA: 0s - loss: 0.3276 - accuracy: 0.8618"
          ]
        },
        {
          "output_type": "stream",
          "name": "stderr",
          "text": [
            "WARNING:tensorflow:Early stopping conditioned on metric `val_lbss` which is not available. Available metrics are: loss,accuracy,val_loss,val_accuracy\n"
          ]
        },
        {
          "output_type": "stream",
          "name": "stdout",
          "text": [
            "\b\b\b\b\b\b\b\b\b\b\b\b\b\b\b\b\b\b\b\b\b\b\b\b\b\b\b\b\b\b\b\b\b\b\b\b\b\b\b\b\b\b\b\b\b\b\b\b\b\b\b\b\b\b\b\b\b\b\b\b\b\b\b\b\b\b\b\b\b\b\b\b\b\b\b\b\b\b\b\b\b\b\b\b\r536/536 [==============================] - 2s 4ms/step - loss: 0.3275 - accuracy: 0.8621 - val_loss: 0.3598 - val_accuracy: 0.8576\n",
            "Epoch 3/100\n",
            "534/536 [============================>.] - ETA: 0s - loss: 0.3235 - accuracy: 0.8669"
          ]
        },
        {
          "output_type": "stream",
          "name": "stderr",
          "text": [
            "WARNING:tensorflow:Early stopping conditioned on metric `val_lbss` which is not available. Available metrics are: loss,accuracy,val_loss,val_accuracy\n"
          ]
        },
        {
          "output_type": "stream",
          "name": "stdout",
          "text": [
            "\b\b\b\b\b\b\b\b\b\b\b\b\b\b\b\b\b\b\b\b\b\b\b\b\b\b\b\b\b\b\b\b\b\b\b\b\b\b\b\b\b\b\b\b\b\b\b\b\b\b\b\b\b\b\b\b\b\b\b\b\b\b\b\b\b\b\b\b\b\b\b\b\b\b\b\b\b\b\b\b\b\b\b\b\r536/536 [==============================] - 3s 5ms/step - loss: 0.3244 - accuracy: 0.8666 - val_loss: 0.3900 - val_accuracy: 0.8395\n",
            "Epoch 4/100\n",
            "528/536 [============================>.] - ETA: 0s - loss: 0.3241 - accuracy: 0.8642"
          ]
        },
        {
          "output_type": "stream",
          "name": "stderr",
          "text": [
            "WARNING:tensorflow:Early stopping conditioned on metric `val_lbss` which is not available. Available metrics are: loss,accuracy,val_loss,val_accuracy\n"
          ]
        },
        {
          "output_type": "stream",
          "name": "stdout",
          "text": [
            "\b\b\b\b\b\b\b\b\b\b\b\b\b\b\b\b\b\b\b\b\b\b\b\b\b\b\b\b\b\b\b\b\b\b\b\b\b\b\b\b\b\b\b\b\b\b\b\b\b\b\b\b\b\b\b\b\b\b\b\b\b\b\b\b\b\b\b\b\b\b\b\b\b\b\b\b\b\b\b\b\b\b\b\b\r536/536 [==============================] - 3s 5ms/step - loss: 0.3228 - accuracy: 0.8643 - val_loss: 0.3646 - val_accuracy: 0.8527\n",
            "Epoch 5/100\n",
            "532/536 [============================>.] - ETA: 0s - loss: 0.3215 - accuracy: 0.8633"
          ]
        },
        {
          "output_type": "stream",
          "name": "stderr",
          "text": [
            "WARNING:tensorflow:Early stopping conditioned on metric `val_lbss` which is not available. Available metrics are: loss,accuracy,val_loss,val_accuracy\n"
          ]
        },
        {
          "output_type": "stream",
          "name": "stdout",
          "text": [
            "\b\b\b\b\b\b\b\b\b\b\b\b\b\b\b\b\b\b\b\b\b\b\b\b\b\b\b\b\b\b\b\b\b\b\b\b\b\b\b\b\b\b\b\b\b\b\b\b\b\b\b\b\b\b\b\b\b\b\b\b\b\b\b\b\b\b\b\b\b\b\b\b\b\b\b\b\b\b\b\b\b\b\b\b\r536/536 [==============================] - 2s 4ms/step - loss: 0.3215 - accuracy: 0.8632 - val_loss: 0.3633 - val_accuracy: 0.8523\n",
            "Epoch 6/100\n",
            "531/536 [============================>.] - ETA: 0s - loss: 0.3215 - accuracy: 0.8642"
          ]
        },
        {
          "output_type": "stream",
          "name": "stderr",
          "text": [
            "WARNING:tensorflow:Early stopping conditioned on metric `val_lbss` which is not available. Available metrics are: loss,accuracy,val_loss,val_accuracy\n"
          ]
        },
        {
          "output_type": "stream",
          "name": "stdout",
          "text": [
            "\b\b\b\b\b\b\b\b\b\b\b\b\b\b\b\b\b\b\b\b\b\b\b\b\b\b\b\b\b\b\b\b\b\b\b\b\b\b\b\b\b\b\b\b\b\b\b\b\b\b\b\b\b\b\b\b\b\b\b\b\b\b\b\b\b\b\b\b\b\b\b\b\b\b\b\b\b\b\b\b\b\b\b\b\r536/536 [==============================] - 2s 4ms/step - loss: 0.3221 - accuracy: 0.8640 - val_loss: 0.3594 - val_accuracy: 0.8523\n",
            "Epoch 7/100\n",
            "526/536 [============================>.] - ETA: 0s - loss: 0.3186 - accuracy: 0.8677"
          ]
        },
        {
          "output_type": "stream",
          "name": "stderr",
          "text": [
            "WARNING:tensorflow:Early stopping conditioned on metric `val_lbss` which is not available. Available metrics are: loss,accuracy,val_loss,val_accuracy\n"
          ]
        },
        {
          "output_type": "stream",
          "name": "stdout",
          "text": [
            "\b\b\b\b\b\b\b\b\b\b\b\b\b\b\b\b\b\b\b\b\b\b\b\b\b\b\b\b\b\b\b\b\b\b\b\b\b\b\b\b\b\b\b\b\b\b\b\b\b\b\b\b\b\b\b\b\b\b\b\b\b\b\b\b\b\b\b\b\b\b\b\b\b\b\b\b\b\b\b\b\b\b\b\b\r536/536 [==============================] - 2s 4ms/step - loss: 0.3214 - accuracy: 0.8662 - val_loss: 0.3570 - val_accuracy: 0.8550\n",
            "Epoch 8/100\n",
            "529/536 [============================>.] - ETA: 0s - loss: 0.3175 - accuracy: 0.8667"
          ]
        },
        {
          "output_type": "stream",
          "name": "stderr",
          "text": [
            "WARNING:tensorflow:Early stopping conditioned on metric `val_lbss` which is not available. Available metrics are: loss,accuracy,val_loss,val_accuracy\n"
          ]
        },
        {
          "output_type": "stream",
          "name": "stdout",
          "text": [
            "\b\b\b\b\b\b\b\b\b\b\b\b\b\b\b\b\b\b\b\b\b\b\b\b\b\b\b\b\b\b\b\b\b\b\b\b\b\b\b\b\b\b\b\b\b\b\b\b\b\b\b\b\b\b\b\b\b\b\b\b\b\b\b\b\b\b\b\b\b\b\b\b\b\b\b\b\b\b\b\b\b\b\b\b\r536/536 [==============================] - 3s 6ms/step - loss: 0.3194 - accuracy: 0.8664 - val_loss: 0.3660 - val_accuracy: 0.8550\n",
            "Epoch 9/100\n",
            "522/536 [============================>.] - ETA: 0s - loss: 0.3213 - accuracy: 0.8640"
          ]
        },
        {
          "output_type": "stream",
          "name": "stderr",
          "text": [
            "WARNING:tensorflow:Early stopping conditioned on metric `val_lbss` which is not available. Available metrics are: loss,accuracy,val_loss,val_accuracy\n"
          ]
        },
        {
          "output_type": "stream",
          "name": "stdout",
          "text": [
            "\b\b\b\b\b\b\b\b\b\b\b\b\b\b\b\b\b\b\b\b\b\b\b\b\b\b\b\b\b\b\b\b\b\b\b\b\b\b\b\b\b\b\b\b\b\b\b\b\b\b\b\b\b\b\b\b\b\b\b\b\b\b\b\b\b\b\b\b\b\b\b\b\b\b\b\b\b\b\b\b\b\b\b\b\r536/536 [==============================] - 3s 5ms/step - loss: 0.3218 - accuracy: 0.8638 - val_loss: 0.3647 - val_accuracy: 0.8508\n",
            "Epoch 10/100\n",
            "534/536 [============================>.] - ETA: 0s - loss: 0.3229 - accuracy: 0.8637"
          ]
        },
        {
          "output_type": "stream",
          "name": "stderr",
          "text": [
            "WARNING:tensorflow:Early stopping conditioned on metric `val_lbss` which is not available. Available metrics are: loss,accuracy,val_loss,val_accuracy\n"
          ]
        },
        {
          "output_type": "stream",
          "name": "stdout",
          "text": [
            "\b\b\b\b\b\b\b\b\b\b\b\b\b\b\b\b\b\b\b\b\b\b\b\b\b\b\b\b\b\b\b\b\b\b\b\b\b\b\b\b\b\b\b\b\b\b\b\b\b\b\b\b\b\b\b\b\b\b\b\b\b\b\b\b\b\b\b\b\b\b\b\b\b\b\b\b\b\b\b\b\b\b\b\b\r536/536 [==============================] - 2s 5ms/step - loss: 0.3228 - accuracy: 0.8638 - val_loss: 0.3641 - val_accuracy: 0.8557\n",
            "Epoch 11/100\n",
            "529/536 [============================>.] - ETA: 0s - loss: 0.3187 - accuracy: 0.8658"
          ]
        },
        {
          "output_type": "stream",
          "name": "stderr",
          "text": [
            "WARNING:tensorflow:Early stopping conditioned on metric `val_lbss` which is not available. Available metrics are: loss,accuracy,val_loss,val_accuracy\n"
          ]
        },
        {
          "output_type": "stream",
          "name": "stdout",
          "text": [
            "\b\b\b\b\b\b\b\b\b\b\b\b\b\b\b\b\b\b\b\b\b\b\b\b\b\b\b\b\b\b\b\b\b\b\b\b\b\b\b\b\b\b\b\b\b\b\b\b\b\b\b\b\b\b\b\b\b\b\b\b\b\b\b\b\b\b\b\b\b\b\b\b\b\b\b\b\b\b\b\b\b\b\b\b\r536/536 [==============================] - 2s 4ms/step - loss: 0.3181 - accuracy: 0.8666 - val_loss: 0.3711 - val_accuracy: 0.8576\n",
            "Epoch 12/100\n",
            "527/536 [============================>.] - ETA: 0s - loss: 0.3220 - accuracy: 0.8634"
          ]
        },
        {
          "output_type": "stream",
          "name": "stderr",
          "text": [
            "WARNING:tensorflow:Early stopping conditioned on metric `val_lbss` which is not available. Available metrics are: loss,accuracy,val_loss,val_accuracy\n"
          ]
        },
        {
          "output_type": "stream",
          "name": "stdout",
          "text": [
            "\b\b\b\b\b\b\b\b\b\b\b\b\b\b\b\b\b\b\b\b\b\b\b\b\b\b\b\b\b\b\b\b\b\b\b\b\b\b\b\b\b\b\b\b\b\b\b\b\b\b\b\b\b\b\b\b\b\b\b\b\b\b\b\b\b\b\b\b\b\b\b\b\b\b\b\b\b\b\b\b\b\b\b\b\r536/536 [==============================] - 2s 4ms/step - loss: 0.3222 - accuracy: 0.8634 - val_loss: 0.3785 - val_accuracy: 0.8565\n",
            "Epoch 13/100\n",
            "532/536 [============================>.] - ETA: 0s - loss: 0.3198 - accuracy: 0.8665"
          ]
        },
        {
          "output_type": "stream",
          "name": "stderr",
          "text": [
            "WARNING:tensorflow:Early stopping conditioned on metric `val_lbss` which is not available. Available metrics are: loss,accuracy,val_loss,val_accuracy\n"
          ]
        },
        {
          "output_type": "stream",
          "name": "stdout",
          "text": [
            "\b\b\b\b\b\b\b\b\b\b\b\b\b\b\b\b\b\b\b\b\b\b\b\b\b\b\b\b\b\b\b\b\b\b\b\b\b\b\b\b\b\b\b\b\b\b\b\b\b\b\b\b\b\b\b\b\b\b\b\b\b\b\b\b\b\b\b\b\b\b\b\b\b\b\b\b\b\b\b\b\b\b\b\b\r536/536 [==============================] - 3s 6ms/step - loss: 0.3196 - accuracy: 0.8666 - val_loss: 0.3648 - val_accuracy: 0.8519\n",
            "Epoch 14/100\n",
            "534/536 [============================>.] - ETA: 0s - loss: 0.3175 - accuracy: 0.8674"
          ]
        },
        {
          "output_type": "stream",
          "name": "stderr",
          "text": [
            "WARNING:tensorflow:Early stopping conditioned on metric `val_lbss` which is not available. Available metrics are: loss,accuracy,val_loss,val_accuracy\n"
          ]
        },
        {
          "output_type": "stream",
          "name": "stdout",
          "text": [
            "\b\b\b\b\b\b\b\b\b\b\b\b\b\b\b\b\b\b\b\b\b\b\b\b\b\b\b\b\b\b\b\b\b\b\b\b\b\b\b\b\b\b\b\b\b\b\b\b\b\b\b\b\b\b\b\b\b\b\b\b\b\b\b\b\b\b\b\b\b\b\b\b\b\b\b\b\b\b\b\b\b\b\b\b\r536/536 [==============================] - 2s 5ms/step - loss: 0.3175 - accuracy: 0.8675 - val_loss: 0.3929 - val_accuracy: 0.8516\n",
            "Epoch 15/100\n",
            "531/536 [============================>.] - ETA: 0s - loss: 0.3187 - accuracy: 0.8640"
          ]
        },
        {
          "output_type": "stream",
          "name": "stderr",
          "text": [
            "WARNING:tensorflow:Early stopping conditioned on metric `val_lbss` which is not available. Available metrics are: loss,accuracy,val_loss,val_accuracy\n"
          ]
        },
        {
          "output_type": "stream",
          "name": "stdout",
          "text": [
            "\b\b\b\b\b\b\b\b\b\b\b\b\b\b\b\b\b\b\b\b\b\b\b\b\b\b\b\b\b\b\b\b\b\b\b\b\b\b\b\b\b\b\b\b\b\b\b\b\b\b\b\b\b\b\b\b\b\b\b\b\b\b\b\b\b\b\b\b\b\b\b\b\b\b\b\b\b\b\b\b\b\b\b\b\r536/536 [==============================] - 2s 5ms/step - loss: 0.3193 - accuracy: 0.8634 - val_loss: 0.3862 - val_accuracy: 0.8535\n",
            "Epoch 16/100\n",
            "533/536 [============================>.] - ETA: 0s - loss: 0.3214 - accuracy: 0.8674"
          ]
        },
        {
          "output_type": "stream",
          "name": "stderr",
          "text": [
            "WARNING:tensorflow:Early stopping conditioned on metric `val_lbss` which is not available. Available metrics are: loss,accuracy,val_loss,val_accuracy\n"
          ]
        },
        {
          "output_type": "stream",
          "name": "stdout",
          "text": [
            "\b\b\b\b\b\b\b\b\b\b\b\b\b\b\b\b\b\b\b\b\b\b\b\b\b\b\b\b\b\b\b\b\b\b\b\b\b\b\b\b\b\b\b\b\b\b\b\b\b\b\b\b\b\b\b\b\b\b\b\b\b\b\b\b\b\b\b\b\b\b\b\b\b\b\b\b\b\b\b\b\b\b\b\b\r536/536 [==============================] - 2s 5ms/step - loss: 0.3222 - accuracy: 0.8671 - val_loss: 0.3705 - val_accuracy: 0.8538\n",
            "Epoch 17/100\n",
            "524/536 [============================>.] - ETA: 0s - loss: 0.3205 - accuracy: 0.8676"
          ]
        },
        {
          "output_type": "stream",
          "name": "stderr",
          "text": [
            "WARNING:tensorflow:Early stopping conditioned on metric `val_lbss` which is not available. Available metrics are: loss,accuracy,val_loss,val_accuracy\n"
          ]
        },
        {
          "output_type": "stream",
          "name": "stdout",
          "text": [
            "\b\b\b\b\b\b\b\b\b\b\b\b\b\b\b\b\b\b\b\b\b\b\b\b\b\b\b\b\b\b\b\b\b\b\b\b\b\b\b\b\b\b\b\b\b\b\b\b\b\b\b\b\b\b\b\b\b\b\b\b\b\b\b\b\b\b\b\b\b\b\b\b\b\b\b\b\b\b\b\b\b\b\b\b\r536/536 [==============================] - 3s 5ms/step - loss: 0.3210 - accuracy: 0.8668 - val_loss: 0.3720 - val_accuracy: 0.8535\n",
            "Epoch 18/100\n",
            "528/536 [============================>.] - ETA: 0s - loss: 0.3201 - accuracy: 0.8680"
          ]
        },
        {
          "output_type": "stream",
          "name": "stderr",
          "text": [
            "WARNING:tensorflow:Early stopping conditioned on metric `val_lbss` which is not available. Available metrics are: loss,accuracy,val_loss,val_accuracy\n"
          ]
        },
        {
          "output_type": "stream",
          "name": "stdout",
          "text": [
            "\b\b\b\b\b\b\b\b\b\b\b\b\b\b\b\b\b\b\b\b\b\b\b\b\b\b\b\b\b\b\b\b\b\b\b\b\b\b\b\b\b\b\b\b\b\b\b\b\b\b\b\b\b\b\b\b\b\b\b\b\b\b\b\b\b\b\b\b\b\b\b\b\b\b\b\b\b\b\b\b\b\b\b\b\r536/536 [==============================] - 3s 6ms/step - loss: 0.3181 - accuracy: 0.8690 - val_loss: 0.3760 - val_accuracy: 0.8501\n",
            "Epoch 19/100\n",
            "523/536 [============================>.] - ETA: 0s - loss: 0.3192 - accuracy: 0.8637"
          ]
        },
        {
          "output_type": "stream",
          "name": "stderr",
          "text": [
            "WARNING:tensorflow:Early stopping conditioned on metric `val_lbss` which is not available. Available metrics are: loss,accuracy,val_loss,val_accuracy\n"
          ]
        },
        {
          "output_type": "stream",
          "name": "stdout",
          "text": [
            "\b\b\b\b\b\b\b\b\b\b\b\b\b\b\b\b\b\b\b\b\b\b\b\b\b\b\b\b\b\b\b\b\b\b\b\b\b\b\b\b\b\b\b\b\b\b\b\b\b\b\b\b\b\b\b\b\b\b\b\b\b\b\b\b\b\b\b\b\b\b\b\b\b\b\b\b\b\b\b\b\b\b\b\b\r536/536 [==============================] - 2s 4ms/step - loss: 0.3187 - accuracy: 0.8640 - val_loss: 0.3780 - val_accuracy: 0.8508\n",
            "Epoch 20/100\n",
            "534/536 [============================>.] - ETA: 0s - loss: 0.3169 - accuracy: 0.8659"
          ]
        },
        {
          "output_type": "stream",
          "name": "stderr",
          "text": [
            "WARNING:tensorflow:Early stopping conditioned on metric `val_lbss` which is not available. Available metrics are: loss,accuracy,val_loss,val_accuracy\n"
          ]
        },
        {
          "output_type": "stream",
          "name": "stdout",
          "text": [
            "\b\b\b\b\b\b\b\b\b\b\b\b\b\b\b\b\b\b\b\b\b\b\b\b\b\b\b\b\b\b\b\b\b\b\b\b\b\b\b\b\b\b\b\b\b\b\b\b\b\b\b\b\b\b\b\b\b\b\b\b\b\b\b\b\b\b\b\b\b\b\b\b\b\b\b\b\b\b\b\b\b\b\b\b\r536/536 [==============================] - 2s 4ms/step - loss: 0.3163 - accuracy: 0.8664 - val_loss: 0.3903 - val_accuracy: 0.8527\n",
            "Epoch 21/100\n",
            "529/536 [============================>.] - ETA: 0s - loss: 0.3184 - accuracy: 0.8654"
          ]
        },
        {
          "output_type": "stream",
          "name": "stderr",
          "text": [
            "WARNING:tensorflow:Early stopping conditioned on metric `val_lbss` which is not available. Available metrics are: loss,accuracy,val_loss,val_accuracy\n"
          ]
        },
        {
          "output_type": "stream",
          "name": "stdout",
          "text": [
            "\b\b\b\b\b\b\b\b\b\b\b\b\b\b\b\b\b\b\b\b\b\b\b\b\b\b\b\b\b\b\b\b\b\b\b\b\b\b\b\b\b\b\b\b\b\b\b\b\b\b\b\b\b\b\b\b\b\b\b\b\b\b\b\b\b\b\b\b\b\b\b\b\b\b\b\b\b\b\b\b\b\b\b\b\r536/536 [==============================] - 2s 4ms/step - loss: 0.3194 - accuracy: 0.8647 - val_loss: 0.3725 - val_accuracy: 0.8535\n",
            "Epoch 22/100\n",
            "528/536 [============================>.] - ETA: 0s - loss: 0.3178 - accuracy: 0.8655"
          ]
        },
        {
          "output_type": "stream",
          "name": "stderr",
          "text": [
            "WARNING:tensorflow:Early stopping conditioned on metric `val_lbss` which is not available. Available metrics are: loss,accuracy,val_loss,val_accuracy\n"
          ]
        },
        {
          "output_type": "stream",
          "name": "stdout",
          "text": [
            "\b\b\b\b\b\b\b\b\b\b\b\b\b\b\b\b\b\b\b\b\b\b\b\b\b\b\b\b\b\b\b\b\b\b\b\b\b\b\b\b\b\b\b\b\b\b\b\b\b\b\b\b\b\b\b\b\b\b\b\b\b\b\b\b\b\b\b\b\b\b\b\b\b\b\b\b\b\b\b\b\b\b\b\b\r536/536 [==============================] - 3s 6ms/step - loss: 0.3178 - accuracy: 0.8655 - val_loss: 0.3658 - val_accuracy: 0.8508\n",
            "Epoch 23/100\n",
            "530/536 [============================>.] - ETA: 0s - loss: 0.3185 - accuracy: 0.8662"
          ]
        },
        {
          "output_type": "stream",
          "name": "stderr",
          "text": [
            "WARNING:tensorflow:Early stopping conditioned on metric `val_lbss` which is not available. Available metrics are: loss,accuracy,val_loss,val_accuracy\n"
          ]
        },
        {
          "output_type": "stream",
          "name": "stdout",
          "text": [
            "\b\b\b\b\b\b\b\b\b\b\b\b\b\b\b\b\b\b\b\b\b\b\b\b\b\b\b\b\b\b\b\b\b\b\b\b\b\b\b\b\b\b\b\b\b\b\b\b\b\b\b\b\b\b\b\b\b\b\b\b\b\b\b\b\b\b\b\b\b\b\b\b\b\b\b\b\b\b\b\b\b\b\b\b\r536/536 [==============================] - 3s 5ms/step - loss: 0.3187 - accuracy: 0.8655 - val_loss: 0.3709 - val_accuracy: 0.8565\n",
            "Epoch 24/100\n",
            "533/536 [============================>.] - ETA: 0s - loss: 0.3197 - accuracy: 0.8649"
          ]
        },
        {
          "output_type": "stream",
          "name": "stderr",
          "text": [
            "WARNING:tensorflow:Early stopping conditioned on metric `val_lbss` which is not available. Available metrics are: loss,accuracy,val_loss,val_accuracy\n"
          ]
        },
        {
          "output_type": "stream",
          "name": "stdout",
          "text": [
            "\b\b\b\b\b\b\b\b\b\b\b\b\b\b\b\b\b\b\b\b\b\b\b\b\b\b\b\b\b\b\b\b\b\b\b\b\b\b\b\b\b\b\b\b\b\b\b\b\b\b\b\b\b\b\b\b\b\b\b\b\b\b\b\b\b\b\b\b\b\b\b\b\b\b\b\b\b\b\b\b\b\b\b\b\r536/536 [==============================] - 3s 5ms/step - loss: 0.3187 - accuracy: 0.8655 - val_loss: 0.3856 - val_accuracy: 0.8508\n",
            "Epoch 25/100\n",
            "526/536 [============================>.] - ETA: 0s - loss: 0.3152 - accuracy: 0.8643"
          ]
        },
        {
          "output_type": "stream",
          "name": "stderr",
          "text": [
            "WARNING:tensorflow:Early stopping conditioned on metric `val_lbss` which is not available. Available metrics are: loss,accuracy,val_loss,val_accuracy\n"
          ]
        },
        {
          "output_type": "stream",
          "name": "stdout",
          "text": [
            "\b\b\b\b\b\b\b\b\b\b\b\b\b\b\b\b\b\b\b\b\b\b\b\b\b\b\b\b\b\b\b\b\b\b\b\b\b\b\b\b\b\b\b\b\b\b\b\b\b\b\b\b\b\b\b\b\b\b\b\b\b\b\b\b\b\b\b\b\b\b\b\b\b\b\b\b\b\b\b\b\b\b\b\b\r536/536 [==============================] - 2s 4ms/step - loss: 0.3154 - accuracy: 0.8647 - val_loss: 0.3923 - val_accuracy: 0.8538\n",
            "Epoch 26/100\n",
            "535/536 [============================>.] - ETA: 0s - loss: 0.3193 - accuracy: 0.8617"
          ]
        },
        {
          "output_type": "stream",
          "name": "stderr",
          "text": [
            "WARNING:tensorflow:Early stopping conditioned on metric `val_lbss` which is not available. Available metrics are: loss,accuracy,val_loss,val_accuracy\n"
          ]
        },
        {
          "output_type": "stream",
          "name": "stdout",
          "text": [
            "\b\b\b\b\b\b\b\b\b\b\b\b\b\b\b\b\b\b\b\b\b\b\b\b\b\b\b\b\b\b\b\b\b\b\b\b\b\b\b\b\b\b\b\b\b\b\b\b\b\b\b\b\b\b\b\b\b\b\b\b\b\b\b\b\b\b\b\b\b\b\b\b\b\b\b\b\b\b\b\b\b\b\b\b\r536/536 [==============================] - 2s 5ms/step - loss: 0.3191 - accuracy: 0.8617 - val_loss: 0.3951 - val_accuracy: 0.8527\n",
            "Epoch 27/100\n",
            "534/536 [============================>.] - ETA: 0s - loss: 0.3162 - accuracy: 0.8650"
          ]
        },
        {
          "output_type": "stream",
          "name": "stderr",
          "text": [
            "WARNING:tensorflow:Early stopping conditioned on metric `val_lbss` which is not available. Available metrics are: loss,accuracy,val_loss,val_accuracy\n"
          ]
        },
        {
          "output_type": "stream",
          "name": "stdout",
          "text": [
            "\b\b\b\b\b\b\b\b\b\b\b\b\b\b\b\b\b\b\b\b\b\b\b\b\b\b\b\b\b\b\b\b\b\b\b\b\b\b\b\b\b\b\b\b\b\b\b\b\b\b\b\b\b\b\b\b\b\b\b\b\b\b\b\b\b\b\b\b\b\b\b\b\b\b\b\b\b\b\b\b\b\b\b\b\r536/536 [==============================] - 4s 7ms/step - loss: 0.3162 - accuracy: 0.8649 - val_loss: 0.3753 - val_accuracy: 0.8588\n",
            "Epoch 28/100\n",
            "525/536 [============================>.] - ETA: 0s - loss: 0.3192 - accuracy: 0.8648"
          ]
        },
        {
          "output_type": "stream",
          "name": "stderr",
          "text": [
            "WARNING:tensorflow:Early stopping conditioned on metric `val_lbss` which is not available. Available metrics are: loss,accuracy,val_loss,val_accuracy\n"
          ]
        },
        {
          "output_type": "stream",
          "name": "stdout",
          "text": [
            "\b\b\b\b\b\b\b\b\b\b\b\b\b\b\b\b\b\b\b\b\b\b\b\b\b\b\b\b\b\b\b\b\b\b\b\b\b\b\b\b\b\b\b\b\b\b\b\b\b\b\b\b\b\b\b\b\b\b\b\b\b\b\b\b\b\b\b\b\b\b\b\b\b\b\b\b\b\b\b\b\b\b\b\b\r536/536 [==============================] - 3s 5ms/step - loss: 0.3189 - accuracy: 0.8649 - val_loss: 0.3689 - val_accuracy: 0.8573\n",
            "Epoch 29/100\n",
            "534/536 [============================>.] - ETA: 0s - loss: 0.3173 - accuracy: 0.8684"
          ]
        },
        {
          "output_type": "stream",
          "name": "stderr",
          "text": [
            "WARNING:tensorflow:Early stopping conditioned on metric `val_lbss` which is not available. Available metrics are: loss,accuracy,val_loss,val_accuracy\n"
          ]
        },
        {
          "output_type": "stream",
          "name": "stdout",
          "text": [
            "\b\b\b\b\b\b\b\b\b\b\b\b\b\b\b\b\b\b\b\b\b\b\b\b\b\b\b\b\b\b\b\b\b\b\b\b\b\b\b\b\b\b\b\b\b\b\b\b\b\b\b\b\b\b\b\b\b\b\b\b\b\b\b\b\b\b\b\b\b\b\b\b\b\b\b\b\b\b\b\b\b\b\b\b\r536/536 [==============================] - 3s 5ms/step - loss: 0.3166 - accuracy: 0.8686 - val_loss: 0.3841 - val_accuracy: 0.8474\n",
            "Epoch 30/100\n",
            "526/536 [============================>.] - ETA: 0s - loss: 0.3159 - accuracy: 0.8677"
          ]
        },
        {
          "output_type": "stream",
          "name": "stderr",
          "text": [
            "WARNING:tensorflow:Early stopping conditioned on metric `val_lbss` which is not available. Available metrics are: loss,accuracy,val_loss,val_accuracy\n"
          ]
        },
        {
          "output_type": "stream",
          "name": "stdout",
          "text": [
            "\b\b\b\b\b\b\b\b\b\b\b\b\b\b\b\b\b\b\b\b\b\b\b\b\b\b\b\b\b\b\b\b\b\b\b\b\b\b\b\b\b\b\b\b\b\b\b\b\b\b\b\b\b\b\b\b\b\b\b\b\b\b\b\b\b\b\b\b\b\b\b\b\b\b\b\b\b\b\b\b\b\b\b\b\r536/536 [==============================] - 2s 5ms/step - loss: 0.3156 - accuracy: 0.8675 - val_loss: 0.3826 - val_accuracy: 0.8482\n",
            "Epoch 31/100\n",
            "533/536 [============================>.] - ETA: 0s - loss: 0.3168 - accuracy: 0.8675"
          ]
        },
        {
          "output_type": "stream",
          "name": "stderr",
          "text": [
            "WARNING:tensorflow:Early stopping conditioned on metric `val_lbss` which is not available. Available metrics are: loss,accuracy,val_loss,val_accuracy\n"
          ]
        },
        {
          "output_type": "stream",
          "name": "stdout",
          "text": [
            "\b\b\b\b\b\b\b\b\b\b\b\b\b\b\b\b\b\b\b\b\b\b\b\b\b\b\b\b\b\b\b\b\b\b\b\b\b\b\b\b\b\b\b\b\b\b\b\b\b\b\b\b\b\b\b\b\b\b\b\b\b\b\b\b\b\b\b\b\b\b\b\b\b\b\b\b\b\b\b\b\b\b\b\b\r536/536 [==============================] - 3s 5ms/step - loss: 0.3161 - accuracy: 0.8679 - val_loss: 0.3822 - val_accuracy: 0.8546\n",
            "Epoch 32/100\n",
            "527/536 [============================>.] - ETA: 0s - loss: 0.3147 - accuracy: 0.8658"
          ]
        },
        {
          "output_type": "stream",
          "name": "stderr",
          "text": [
            "WARNING:tensorflow:Early stopping conditioned on metric `val_lbss` which is not available. Available metrics are: loss,accuracy,val_loss,val_accuracy\n"
          ]
        },
        {
          "output_type": "stream",
          "name": "stdout",
          "text": [
            "\b\b\b\b\b\b\b\b\b\b\b\b\b\b\b\b\b\b\b\b\b\b\b\b\b\b\b\b\b\b\b\b\b\b\b\b\b\b\b\b\b\b\b\b\b\b\b\b\b\b\b\b\b\b\b\b\b\b\b\b\b\b\b\b\b\b\b\b\b\b\b\b\b\b\b\b\b\b\b\b\b\b\b\b\r536/536 [==============================] - 3s 5ms/step - loss: 0.3144 - accuracy: 0.8660 - val_loss: 0.3792 - val_accuracy: 0.8542\n",
            "Epoch 33/100\n",
            "533/536 [============================>.] - ETA: 0s - loss: 0.3159 - accuracy: 0.8657"
          ]
        },
        {
          "output_type": "stream",
          "name": "stderr",
          "text": [
            "WARNING:tensorflow:Early stopping conditioned on metric `val_lbss` which is not available. Available metrics are: loss,accuracy,val_loss,val_accuracy\n"
          ]
        },
        {
          "output_type": "stream",
          "name": "stdout",
          "text": [
            "\b\b\b\b\b\b\b\b\b\b\b\b\b\b\b\b\b\b\b\b\b\b\b\b\b\b\b\b\b\b\b\b\b\b\b\b\b\b\b\b\b\b\b\b\b\b\b\b\b\b\b\b\b\b\b\b\b\b\b\b\b\b\b\b\b\b\b\b\b\b\b\b\b\b\b\b\b\b\b\b\b\b\b\b\r536/536 [==============================] - 2s 5ms/step - loss: 0.3160 - accuracy: 0.8656 - val_loss: 0.3985 - val_accuracy: 0.8489\n",
            "Epoch 34/100\n",
            "528/536 [============================>.] - ETA: 0s - loss: 0.3130 - accuracy: 0.8636"
          ]
        },
        {
          "output_type": "stream",
          "name": "stderr",
          "text": [
            "WARNING:tensorflow:Early stopping conditioned on metric `val_lbss` which is not available. Available metrics are: loss,accuracy,val_loss,val_accuracy\n"
          ]
        },
        {
          "output_type": "stream",
          "name": "stdout",
          "text": [
            "\b\b\b\b\b\b\b\b\b\b\b\b\b\b\b\b\b\b\b\b\b\b\b\b\b\b\b\b\b\b\b\b\b\b\b\b\b\b\b\b\b\b\b\b\b\b\b\b\b\b\b\b\b\b\b\b\b\b\b\b\b\b\b\b\b\b\b\b\b\b\b\b\b\b\b\b\b\b\b\b\b\b\b\b\r536/536 [==============================] - 2s 4ms/step - loss: 0.3135 - accuracy: 0.8640 - val_loss: 0.3735 - val_accuracy: 0.8523\n",
            "Epoch 35/100\n",
            "536/536 [==============================] - ETA: 0s - loss: 0.3176 - accuracy: 0.8651"
          ]
        },
        {
          "output_type": "stream",
          "name": "stderr",
          "text": [
            "WARNING:tensorflow:Early stopping conditioned on metric `val_lbss` which is not available. Available metrics are: loss,accuracy,val_loss,val_accuracy\n"
          ]
        },
        {
          "output_type": "stream",
          "name": "stdout",
          "text": [
            "\b\b\b\b\b\b\b\b\b\b\b\b\b\b\b\b\b\b\b\b\b\b\b\b\b\b\b\b\b\b\b\b\b\b\b\b\b\b\b\b\b\b\b\b\b\b\b\b\b\b\b\b\b\b\b\b\b\b\b\b\b\b\b\b\b\b\b\b\b\b\b\b\b\b\b\b\b\b\b\b\b\b\b\b\r536/536 [==============================] - 3s 5ms/step - loss: 0.3176 - accuracy: 0.8651 - val_loss: 0.3786 - val_accuracy: 0.8538\n",
            "Epoch 36/100\n",
            "530/536 [============================>.] - ETA: 0s - loss: 0.3146 - accuracy: 0.8647"
          ]
        },
        {
          "output_type": "stream",
          "name": "stderr",
          "text": [
            "WARNING:tensorflow:Early stopping conditioned on metric `val_lbss` which is not available. Available metrics are: loss,accuracy,val_loss,val_accuracy\n"
          ]
        },
        {
          "output_type": "stream",
          "name": "stdout",
          "text": [
            "\b\b\b\b\b\b\b\b\b\b\b\b\b\b\b\b\b\b\b\b\b\b\b\b\b\b\b\b\b\b\b\b\b\b\b\b\b\b\b\b\b\b\b\b\b\b\b\b\b\b\b\b\b\b\b\b\b\b\b\b\b\b\b\b\b\b\b\b\b\b\b\b\b\b\b\b\b\b\b\b\b\b\b\b\r536/536 [==============================] - 4s 7ms/step - loss: 0.3142 - accuracy: 0.8647 - val_loss: 0.3849 - val_accuracy: 0.8489\n",
            "Epoch 37/100\n",
            "527/536 [============================>.] - ETA: 0s - loss: 0.3188 - accuracy: 0.8630"
          ]
        },
        {
          "output_type": "stream",
          "name": "stderr",
          "text": [
            "WARNING:tensorflow:Early stopping conditioned on metric `val_lbss` which is not available. Available metrics are: loss,accuracy,val_loss,val_accuracy\n"
          ]
        },
        {
          "output_type": "stream",
          "name": "stdout",
          "text": [
            "\b\b\b\b\b\b\b\b\b\b\b\b\b\b\b\b\b\b\b\b\b\b\b\b\b\b\b\b\b\b\b\b\b\b\b\b\b\b\b\b\b\b\b\b\b\b\b\b\b\b\b\b\b\b\b\b\b\b\b\b\b\b\b\b\b\b\b\b\b\b\b\b\b\b\b\b\b\b\b\b\b\b\b\b\r536/536 [==============================] - 3s 5ms/step - loss: 0.3177 - accuracy: 0.8636 - val_loss: 0.3760 - val_accuracy: 0.8573\n",
            "Epoch 38/100\n",
            "536/536 [==============================] - ETA: 0s - loss: 0.3118 - accuracy: 0.8692"
          ]
        },
        {
          "output_type": "stream",
          "name": "stderr",
          "text": [
            "WARNING:tensorflow:Early stopping conditioned on metric `val_lbss` which is not available. Available metrics are: loss,accuracy,val_loss,val_accuracy\n"
          ]
        },
        {
          "output_type": "stream",
          "name": "stdout",
          "text": [
            "\b\b\b\b\b\b\b\b\b\b\b\b\b\b\b\b\b\b\b\b\b\b\b\b\b\b\b\b\b\b\b\b\b\b\b\b\b\b\b\b\b\b\b\b\b\b\b\b\b\b\b\b\b\b\b\b\b\b\b\b\b\b\b\b\b\b\b\b\b\b\b\b\b\b\b\b\b\b\b\b\b\b\b\b\r536/536 [==============================] - 2s 5ms/step - loss: 0.3118 - accuracy: 0.8692 - val_loss: 0.3962 - val_accuracy: 0.8542\n",
            "Epoch 39/100\n",
            "533/536 [============================>.] - ETA: 0s - loss: 0.3116 - accuracy: 0.8664"
          ]
        },
        {
          "output_type": "stream",
          "name": "stderr",
          "text": [
            "WARNING:tensorflow:Early stopping conditioned on metric `val_lbss` which is not available. Available metrics are: loss,accuracy,val_loss,val_accuracy\n"
          ]
        },
        {
          "output_type": "stream",
          "name": "stdout",
          "text": [
            "\b\b\b\b\b\b\b\b\b\b\b\b\b\b\b\b\b\b\b\b\b\b\b\b\b\b\b\b\b\b\b\b\b\b\b\b\b\b\b\b\b\b\b\b\b\b\b\b\b\b\b\b\b\b\b\b\b\b\b\b\b\b\b\b\b\b\b\b\b\b\b\b\b\b\b\b\b\b\b\b\b\b\b\b\r536/536 [==============================] - 2s 5ms/step - loss: 0.3125 - accuracy: 0.8660 - val_loss: 0.3683 - val_accuracy: 0.8482\n",
            "Epoch 40/100\n",
            "528/536 [============================>.] - ETA: 0s - loss: 0.3137 - accuracy: 0.8629"
          ]
        },
        {
          "output_type": "stream",
          "name": "stderr",
          "text": [
            "WARNING:tensorflow:Early stopping conditioned on metric `val_lbss` which is not available. Available metrics are: loss,accuracy,val_loss,val_accuracy\n"
          ]
        },
        {
          "output_type": "stream",
          "name": "stdout",
          "text": [
            "\b\b\b\b\b\b\b\b\b\b\b\b\b\b\b\b\b\b\b\b\b\b\b\b\b\b\b\b\b\b\b\b\b\b\b\b\b\b\b\b\b\b\b\b\b\b\b\b\b\b\b\b\b\b\b\b\b\b\b\b\b\b\b\b\b\b\b\b\b\b\b\b\b\b\b\b\b\b\b\b\b\b\b\b\r536/536 [==============================] - 2s 4ms/step - loss: 0.3134 - accuracy: 0.8628 - val_loss: 0.3851 - val_accuracy: 0.8538\n",
            "Epoch 41/100\n",
            "530/536 [============================>.] - ETA: 0s - loss: 0.3119 - accuracy: 0.8672"
          ]
        },
        {
          "output_type": "stream",
          "name": "stderr",
          "text": [
            "WARNING:tensorflow:Early stopping conditioned on metric `val_lbss` which is not available. Available metrics are: loss,accuracy,val_loss,val_accuracy\n"
          ]
        },
        {
          "output_type": "stream",
          "name": "stdout",
          "text": [
            "\b\b\b\b\b\b\b\b\b\b\b\b\b\b\b\b\b\b\b\b\b\b\b\b\b\b\b\b\b\b\b\b\b\b\b\b\b\b\b\b\b\b\b\b\b\b\b\b\b\b\b\b\b\b\b\b\b\b\b\b\b\b\b\b\b\b\b\b\b\b\b\b\b\b\b\b\b\b\b\b\b\b\b\b\r536/536 [==============================] - 4s 7ms/step - loss: 0.3120 - accuracy: 0.8670 - val_loss: 0.3888 - val_accuracy: 0.8497\n",
            "Epoch 42/100\n",
            "529/536 [============================>.] - ETA: 0s - loss: 0.3127 - accuracy: 0.8673"
          ]
        },
        {
          "output_type": "stream",
          "name": "stderr",
          "text": [
            "WARNING:tensorflow:Early stopping conditioned on metric `val_lbss` which is not available. Available metrics are: loss,accuracy,val_loss,val_accuracy\n"
          ]
        },
        {
          "output_type": "stream",
          "name": "stdout",
          "text": [
            "\b\b\b\b\b\b\b\b\b\b\b\b\b\b\b\b\b\b\b\b\b\b\b\b\b\b\b\b\b\b\b\b\b\b\b\b\b\b\b\b\b\b\b\b\b\b\b\b\b\b\b\b\b\b\b\b\b\b\b\b\b\b\b\b\b\b\b\b\b\b\b\b\b\b\b\b\b\b\b\b\b\b\b\b\r536/536 [==============================] - 3s 5ms/step - loss: 0.3128 - accuracy: 0.8668 - val_loss: 0.3837 - val_accuracy: 0.8554\n",
            "Epoch 43/100\n",
            "533/536 [============================>.] - ETA: 0s - loss: 0.3126 - accuracy: 0.8647"
          ]
        },
        {
          "output_type": "stream",
          "name": "stderr",
          "text": [
            "WARNING:tensorflow:Early stopping conditioned on metric `val_lbss` which is not available. Available metrics are: loss,accuracy,val_loss,val_accuracy\n"
          ]
        },
        {
          "output_type": "stream",
          "name": "stdout",
          "text": [
            "\b\b\b\b\b\b\b\b\b\b\b\b\b\b\b\b\b\b\b\b\b\b\b\b\b\b\b\b\b\b\b\b\b\b\b\b\b\b\b\b\b\b\b\b\b\b\b\b\b\b\b\b\b\b\b\b\b\b\b\b\b\b\b\b\b\b\b\b\b\b\b\b\b\b\b\b\b\b\b\b\b\b\b\b\r536/536 [==============================] - 2s 5ms/step - loss: 0.3121 - accuracy: 0.8653 - val_loss: 0.3819 - val_accuracy: 0.8482\n",
            "Epoch 44/100\n",
            "532/536 [============================>.] - ETA: 0s - loss: 0.3123 - accuracy: 0.8690"
          ]
        },
        {
          "output_type": "stream",
          "name": "stderr",
          "text": [
            "WARNING:tensorflow:Early stopping conditioned on metric `val_lbss` which is not available. Available metrics are: loss,accuracy,val_loss,val_accuracy\n"
          ]
        },
        {
          "output_type": "stream",
          "name": "stdout",
          "text": [
            "\b\b\b\b\b\b\b\b\b\b\b\b\b\b\b\b\b\b\b\b\b\b\b\b\b\b\b\b\b\b\b\b\b\b\b\b\b\b\b\b\b\b\b\b\b\b\b\b\b\b\b\b\b\b\b\b\b\b\b\b\b\b\b\b\b\b\b\b\b\b\b\b\b\b\b\b\b\b\b\b\b\b\b\b\r536/536 [==============================] - 2s 4ms/step - loss: 0.3132 - accuracy: 0.8684 - val_loss: 0.3753 - val_accuracy: 0.8535\n",
            "Epoch 45/100\n",
            "527/536 [============================>.] - ETA: 0s - loss: 0.3097 - accuracy: 0.8693"
          ]
        },
        {
          "output_type": "stream",
          "name": "stderr",
          "text": [
            "WARNING:tensorflow:Early stopping conditioned on metric `val_lbss` which is not available. Available metrics are: loss,accuracy,val_loss,val_accuracy\n"
          ]
        },
        {
          "output_type": "stream",
          "name": "stdout",
          "text": [
            "\b\b\b\b\b\b\b\b\b\b\b\b\b\b\b\b\b\b\b\b\b\b\b\b\b\b\b\b\b\b\b\b\b\b\b\b\b\b\b\b\b\b\b\b\b\b\b\b\b\b\b\b\b\b\b\b\b\b\b\b\b\b\b\b\b\b\b\b\b\b\b\b\b\b\b\b\b\b\b\b\b\b\b\b\r536/536 [==============================] - 2s 5ms/step - loss: 0.3100 - accuracy: 0.8692 - val_loss: 0.3947 - val_accuracy: 0.8497\n",
            "Epoch 46/100\n",
            "530/536 [============================>.] - ETA: 0s - loss: 0.3120 - accuracy: 0.8672"
          ]
        },
        {
          "output_type": "stream",
          "name": "stderr",
          "text": [
            "WARNING:tensorflow:Early stopping conditioned on metric `val_lbss` which is not available. Available metrics are: loss,accuracy,val_loss,val_accuracy\n"
          ]
        },
        {
          "output_type": "stream",
          "name": "stdout",
          "text": [
            "\b\b\b\b\b\b\b\b\b\b\b\b\b\b\b\b\b\b\b\b\b\b\b\b\b\b\b\b\b\b\b\b\b\b\b\b\b\b\b\b\b\b\b\b\b\b\b\b\b\b\b\b\b\b\b\b\b\b\b\b\b\b\b\b\b\b\b\b\b\b\b\b\b\b\b\b\b\b\b\b\b\b\b\b\r536/536 [==============================] - 3s 6ms/step - loss: 0.3112 - accuracy: 0.8677 - val_loss: 0.3826 - val_accuracy: 0.8516\n",
            "Epoch 47/100\n",
            "529/536 [============================>.] - ETA: 0s - loss: 0.3193 - accuracy: 0.8648"
          ]
        },
        {
          "output_type": "stream",
          "name": "stderr",
          "text": [
            "WARNING:tensorflow:Early stopping conditioned on metric `val_lbss` which is not available. Available metrics are: loss,accuracy,val_loss,val_accuracy\n"
          ]
        },
        {
          "output_type": "stream",
          "name": "stdout",
          "text": [
            "\b\b\b\b\b\b\b\b\b\b\b\b\b\b\b\b\b\b\b\b\b\b\b\b\b\b\b\b\b\b\b\b\b\b\b\b\b\b\b\b\b\b\b\b\b\b\b\b\b\b\b\b\b\b\b\b\b\b\b\b\b\b\b\b\b\b\b\b\b\b\b\b\b\b\b\b\b\b\b\b\b\b\b\b\r536/536 [==============================] - 2s 5ms/step - loss: 0.3190 - accuracy: 0.8649 - val_loss: 0.4068 - val_accuracy: 0.8516\n",
            "Epoch 48/100\n",
            "530/536 [============================>.] - ETA: 0s - loss: 0.3140 - accuracy: 0.8704"
          ]
        },
        {
          "output_type": "stream",
          "name": "stderr",
          "text": [
            "WARNING:tensorflow:Early stopping conditioned on metric `val_lbss` which is not available. Available metrics are: loss,accuracy,val_loss,val_accuracy\n"
          ]
        },
        {
          "output_type": "stream",
          "name": "stdout",
          "text": [
            "\b\b\b\b\b\b\b\b\b\b\b\b\b\b\b\b\b\b\b\b\b\b\b\b\b\b\b\b\b\b\b\b\b\b\b\b\b\b\b\b\b\b\b\b\b\b\b\b\b\b\b\b\b\b\b\b\b\b\b\b\b\b\b\b\b\b\b\b\b\b\b\b\b\b\b\b\b\b\b\b\b\b\b\b\r536/536 [==============================] - 3s 5ms/step - loss: 0.3128 - accuracy: 0.8707 - val_loss: 0.4322 - val_accuracy: 0.8557\n",
            "Epoch 49/100\n",
            "533/536 [============================>.] - ETA: 0s - loss: 0.3160 - accuracy: 0.8645"
          ]
        },
        {
          "output_type": "stream",
          "name": "stderr",
          "text": [
            "WARNING:tensorflow:Early stopping conditioned on metric `val_lbss` which is not available. Available metrics are: loss,accuracy,val_loss,val_accuracy\n"
          ]
        },
        {
          "output_type": "stream",
          "name": "stdout",
          "text": [
            "\b\b\b\b\b\b\b\b\b\b\b\b\b\b\b\b\b\b\b\b\b\b\b\b\b\b\b\b\b\b\b\b\b\b\b\b\b\b\b\b\b\b\b\b\b\b\b\b\b\b\b\b\b\b\b\b\b\b\b\b\b\b\b\b\b\b\b\b\b\b\b\b\b\b\b\b\b\b\b\b\b\b\b\b\r536/536 [==============================] - 2s 4ms/step - loss: 0.3170 - accuracy: 0.8640 - val_loss: 0.3868 - val_accuracy: 0.8542\n",
            "Epoch 50/100\n",
            "532/536 [============================>.] - ETA: 0s - loss: 0.3119 - accuracy: 0.8667"
          ]
        },
        {
          "output_type": "stream",
          "name": "stderr",
          "text": [
            "WARNING:tensorflow:Early stopping conditioned on metric `val_lbss` which is not available. Available metrics are: loss,accuracy,val_loss,val_accuracy\n"
          ]
        },
        {
          "output_type": "stream",
          "name": "stdout",
          "text": [
            "\b\b\b\b\b\b\b\b\b\b\b\b\b\b\b\b\b\b\b\b\b\b\b\b\b\b\b\b\b\b\b\b\b\b\b\b\b\b\b\b\b\b\b\b\b\b\b\b\b\b\b\b\b\b\b\b\b\b\b\b\b\b\b\b\b\b\b\b\b\b\b\b\b\b\b\b\b\b\b\b\b\b\b\b\r536/536 [==============================] - 3s 6ms/step - loss: 0.3118 - accuracy: 0.8668 - val_loss: 0.4004 - val_accuracy: 0.8523\n",
            "Epoch 51/100\n",
            "532/536 [============================>.] - ETA: 0s - loss: 0.3118 - accuracy: 0.8637"
          ]
        },
        {
          "output_type": "stream",
          "name": "stderr",
          "text": [
            "WARNING:tensorflow:Early stopping conditioned on metric `val_lbss` which is not available. Available metrics are: loss,accuracy,val_loss,val_accuracy\n"
          ]
        },
        {
          "output_type": "stream",
          "name": "stdout",
          "text": [
            "\b\b\b\b\b\b\b\b\b\b\b\b\b\b\b\b\b\b\b\b\b\b\b\b\b\b\b\b\b\b\b\b\b\b\b\b\b\b\b\b\b\b\b\b\b\b\b\b\b\b\b\b\b\b\b\b\b\b\b\b\b\b\b\b\b\b\b\b\b\b\b\b\b\b\b\b\b\b\b\b\b\b\b\b\r536/536 [==============================] - 3s 5ms/step - loss: 0.3120 - accuracy: 0.8638 - val_loss: 0.3734 - val_accuracy: 0.8485\n",
            "Epoch 52/100\n",
            "526/536 [============================>.] - ETA: 0s - loss: 0.3118 - accuracy: 0.8671"
          ]
        },
        {
          "output_type": "stream",
          "name": "stderr",
          "text": [
            "WARNING:tensorflow:Early stopping conditioned on metric `val_lbss` which is not available. Available metrics are: loss,accuracy,val_loss,val_accuracy\n"
          ]
        },
        {
          "output_type": "stream",
          "name": "stdout",
          "text": [
            "\b\b\b\b\b\b\b\b\b\b\b\b\b\b\b\b\b\b\b\b\b\b\b\b\b\b\b\b\b\b\b\b\b\b\b\b\b\b\b\b\b\b\b\b\b\b\b\b\b\b\b\b\b\b\b\b\b\b\b\b\b\b\b\b\b\b\b\b\b\b\b\b\b\b\b\b\b\b\b\b\b\b\b\b\r536/536 [==============================] - 2s 5ms/step - loss: 0.3112 - accuracy: 0.8671 - val_loss: 0.3890 - val_accuracy: 0.8557\n",
            "Epoch 53/100\n",
            "527/536 [============================>.] - ETA: 0s - loss: 0.3125 - accuracy: 0.8662"
          ]
        },
        {
          "output_type": "stream",
          "name": "stderr",
          "text": [
            "WARNING:tensorflow:Early stopping conditioned on metric `val_lbss` which is not available. Available metrics are: loss,accuracy,val_loss,val_accuracy\n"
          ]
        },
        {
          "output_type": "stream",
          "name": "stdout",
          "text": [
            "\b\b\b\b\b\b\b\b\b\b\b\b\b\b\b\b\b\b\b\b\b\b\b\b\b\b\b\b\b\b\b\b\b\b\b\b\b\b\b\b\b\b\b\b\b\b\b\b\b\b\b\b\b\b\b\b\b\b\b\b\b\b\b\b\b\b\b\b\b\b\b\b\b\b\b\b\b\b\b\b\b\b\b\b\r536/536 [==============================] - 2s 4ms/step - loss: 0.3122 - accuracy: 0.8668 - val_loss: 0.3882 - val_accuracy: 0.8482\n",
            "Epoch 54/100\n",
            "525/536 [============================>.] - ETA: 0s - loss: 0.3137 - accuracy: 0.8636"
          ]
        },
        {
          "output_type": "stream",
          "name": "stderr",
          "text": [
            "WARNING:tensorflow:Early stopping conditioned on metric `val_lbss` which is not available. Available metrics are: loss,accuracy,val_loss,val_accuracy\n"
          ]
        },
        {
          "output_type": "stream",
          "name": "stdout",
          "text": [
            "\b\b\b\b\b\b\b\b\b\b\b\b\b\b\b\b\b\b\b\b\b\b\b\b\b\b\b\b\b\b\b\b\b\b\b\b\b\b\b\b\b\b\b\b\b\b\b\b\b\b\b\b\b\b\b\b\b\b\b\b\b\b\b\b\b\b\b\b\b\b\b\b\b\b\b\b\b\b\b\b\b\b\b\b\r536/536 [==============================] - 3s 5ms/step - loss: 0.3150 - accuracy: 0.8632 - val_loss: 0.3911 - val_accuracy: 0.8497\n",
            "Epoch 55/100\n",
            "529/536 [============================>.] - ETA: 0s - loss: 0.3106 - accuracy: 0.8669"
          ]
        },
        {
          "output_type": "stream",
          "name": "stderr",
          "text": [
            "WARNING:tensorflow:Early stopping conditioned on metric `val_lbss` which is not available. Available metrics are: loss,accuracy,val_loss,val_accuracy\n"
          ]
        },
        {
          "output_type": "stream",
          "name": "stdout",
          "text": [
            "\b\b\b\b\b\b\b\b\b\b\b\b\b\b\b\b\b\b\b\b\b\b\b\b\b\b\b\b\b\b\b\b\b\b\b\b\b\b\b\b\b\b\b\b\b\b\b\b\b\b\b\b\b\b\b\b\b\b\b\b\b\b\b\b\b\b\b\b\b\b\b\b\b\b\b\b\b\b\b\b\b\b\b\b\r536/536 [==============================] - 3s 6ms/step - loss: 0.3111 - accuracy: 0.8666 - val_loss: 0.3834 - val_accuracy: 0.8550\n",
            "Epoch 56/100\n",
            "525/536 [============================>.] - ETA: 0s - loss: 0.3109 - accuracy: 0.8672"
          ]
        },
        {
          "output_type": "stream",
          "name": "stderr",
          "text": [
            "WARNING:tensorflow:Early stopping conditioned on metric `val_lbss` which is not available. Available metrics are: loss,accuracy,val_loss,val_accuracy\n"
          ]
        },
        {
          "output_type": "stream",
          "name": "stdout",
          "text": [
            "\b\b\b\b\b\b\b\b\b\b\b\b\b\b\b\b\b\b\b\b\b\b\b\b\b\b\b\b\b\b\b\b\b\b\b\b\b\b\b\b\b\b\b\b\b\b\b\b\b\b\b\b\b\b\b\b\b\b\b\b\b\b\b\b\b\b\b\b\b\b\b\b\b\b\b\b\b\b\b\b\b\b\b\b\r536/536 [==============================] - 2s 5ms/step - loss: 0.3132 - accuracy: 0.8668 - val_loss: 0.3738 - val_accuracy: 0.8535\n",
            "Epoch 57/100\n",
            "533/536 [============================>.] - ETA: 0s - loss: 0.3137 - accuracy: 0.8659"
          ]
        },
        {
          "output_type": "stream",
          "name": "stderr",
          "text": [
            "WARNING:tensorflow:Early stopping conditioned on metric `val_lbss` which is not available. Available metrics are: loss,accuracy,val_loss,val_accuracy\n"
          ]
        },
        {
          "output_type": "stream",
          "name": "stdout",
          "text": [
            "\b\b\b\b\b\b\b\b\b\b\b\b\b\b\b\b\b\b\b\b\b\b\b\b\b\b\b\b\b\b\b\b\b\b\b\b\b\b\b\b\b\b\b\b\b\b\b\b\b\b\b\b\b\b\b\b\b\b\b\b\b\b\b\b\b\b\b\b\b\b\b\b\b\b\b\b\b\b\b\b\b\b\b\b\r536/536 [==============================] - 2s 5ms/step - loss: 0.3127 - accuracy: 0.8662 - val_loss: 0.3941 - val_accuracy: 0.8493\n",
            "Epoch 58/100\n",
            "531/536 [============================>.] - ETA: 0s - loss: 0.3110 - accuracy: 0.8665"
          ]
        },
        {
          "output_type": "stream",
          "name": "stderr",
          "text": [
            "WARNING:tensorflow:Early stopping conditioned on metric `val_lbss` which is not available. Available metrics are: loss,accuracy,val_loss,val_accuracy\n"
          ]
        },
        {
          "output_type": "stream",
          "name": "stdout",
          "text": [
            "\b\b\b\b\b\b\b\b\b\b\b\b\b\b\b\b\b\b\b\b\b\b\b\b\b\b\b\b\b\b\b\b\b\b\b\b\b\b\b\b\b\b\b\b\b\b\b\b\b\b\b\b\b\b\b\b\b\b\b\b\b\b\b\b\b\b\b\b\b\b\b\b\b\b\b\b\b\b\b\b\b\b\b\b\r536/536 [==============================] - 2s 4ms/step - loss: 0.3100 - accuracy: 0.8673 - val_loss: 0.4039 - val_accuracy: 0.8569\n",
            "Epoch 59/100\n",
            "530/536 [============================>.] - ETA: 0s - loss: 0.3097 - accuracy: 0.8660"
          ]
        },
        {
          "output_type": "stream",
          "name": "stderr",
          "text": [
            "WARNING:tensorflow:Early stopping conditioned on metric `val_lbss` which is not available. Available metrics are: loss,accuracy,val_loss,val_accuracy\n"
          ]
        },
        {
          "output_type": "stream",
          "name": "stdout",
          "text": [
            "\b\b\b\b\b\b\b\b\b\b\b\b\b\b\b\b\b\b\b\b\b\b\b\b\b\b\b\b\b\b\b\b\b\b\b\b\b\b\b\b\b\b\b\b\b\b\b\b\b\b\b\b\b\b\b\b\b\b\b\b\b\b\b\b\b\b\b\b\b\b\b\b\b\b\b\b\b\b\b\b\b\b\b\b\r536/536 [==============================] - 2s 5ms/step - loss: 0.3098 - accuracy: 0.8656 - val_loss: 0.3838 - val_accuracy: 0.8429\n",
            "Epoch 60/100\n",
            "528/536 [============================>.] - ETA: 0s - loss: 0.3107 - accuracy: 0.8672"
          ]
        },
        {
          "output_type": "stream",
          "name": "stderr",
          "text": [
            "WARNING:tensorflow:Early stopping conditioned on metric `val_lbss` which is not available. Available metrics are: loss,accuracy,val_loss,val_accuracy\n"
          ]
        },
        {
          "output_type": "stream",
          "name": "stdout",
          "text": [
            "\b\b\b\b\b\b\b\b\b\b\b\b\b\b\b\b\b\b\b\b\b\b\b\b\b\b\b\b\b\b\b\b\b\b\b\b\b\b\b\b\b\b\b\b\b\b\b\b\b\b\b\b\b\b\b\b\b\b\b\b\b\b\b\b\b\b\b\b\b\b\b\b\b\b\b\b\b\b\b\b\b\b\b\b\r536/536 [==============================] - 3s 6ms/step - loss: 0.3131 - accuracy: 0.8670 - val_loss: 0.3999 - val_accuracy: 0.8519\n",
            "Epoch 61/100\n",
            "531/536 [============================>.] - ETA: 0s - loss: 0.3140 - accuracy: 0.8657"
          ]
        },
        {
          "output_type": "stream",
          "name": "stderr",
          "text": [
            "WARNING:tensorflow:Early stopping conditioned on metric `val_lbss` which is not available. Available metrics are: loss,accuracy,val_loss,val_accuracy\n"
          ]
        },
        {
          "output_type": "stream",
          "name": "stdout",
          "text": [
            "\b\b\b\b\b\b\b\b\b\b\b\b\b\b\b\b\b\b\b\b\b\b\b\b\b\b\b\b\b\b\b\b\b\b\b\b\b\b\b\b\b\b\b\b\b\b\b\b\b\b\b\b\b\b\b\b\b\b\b\b\b\b\b\b\b\b\b\b\b\b\b\b\b\b\b\b\b\b\b\b\b\b\b\b\r536/536 [==============================] - 2s 4ms/step - loss: 0.3133 - accuracy: 0.8662 - val_loss: 0.3809 - val_accuracy: 0.8527\n",
            "Epoch 62/100\n",
            "532/536 [============================>.] - ETA: 0s - loss: 0.3105 - accuracy: 0.8677"
          ]
        },
        {
          "output_type": "stream",
          "name": "stderr",
          "text": [
            "WARNING:tensorflow:Early stopping conditioned on metric `val_lbss` which is not available. Available metrics are: loss,accuracy,val_loss,val_accuracy\n"
          ]
        },
        {
          "output_type": "stream",
          "name": "stdout",
          "text": [
            "\b\b\b\b\b\b\b\b\b\b\b\b\b\b\b\b\b\b\b\b\b\b\b\b\b\b\b\b\b\b\b\b\b\b\b\b\b\b\b\b\b\b\b\b\b\b\b\b\b\b\b\b\b\b\b\b\b\b\b\b\b\b\b\b\b\b\b\b\b\b\b\b\b\b\b\b\b\b\b\b\b\b\b\b\r536/536 [==============================] - 2s 5ms/step - loss: 0.3104 - accuracy: 0.8673 - val_loss: 0.3994 - val_accuracy: 0.8531\n",
            "Epoch 63/100\n",
            "533/536 [============================>.] - ETA: 0s - loss: 0.3094 - accuracy: 0.8660"
          ]
        },
        {
          "output_type": "stream",
          "name": "stderr",
          "text": [
            "WARNING:tensorflow:Early stopping conditioned on metric `val_lbss` which is not available. Available metrics are: loss,accuracy,val_loss,val_accuracy\n"
          ]
        },
        {
          "output_type": "stream",
          "name": "stdout",
          "text": [
            "\b\b\b\b\b\b\b\b\b\b\b\b\b\b\b\b\b\b\b\b\b\b\b\b\b\b\b\b\b\b\b\b\b\b\b\b\b\b\b\b\b\b\b\b\b\b\b\b\b\b\b\b\b\b\b\b\b\b\b\b\b\b\b\b\b\b\b\b\b\b\b\b\b\b\b\b\b\b\b\b\b\b\b\b\r536/536 [==============================] - 2s 4ms/step - loss: 0.3087 - accuracy: 0.8666 - val_loss: 0.3834 - val_accuracy: 0.8565\n",
            "Epoch 64/100\n",
            "528/536 [============================>.] - ETA: 0s - loss: 0.3113 - accuracy: 0.8633"
          ]
        },
        {
          "output_type": "stream",
          "name": "stderr",
          "text": [
            "WARNING:tensorflow:Early stopping conditioned on metric `val_lbss` which is not available. Available metrics are: loss,accuracy,val_loss,val_accuracy\n"
          ]
        },
        {
          "output_type": "stream",
          "name": "stdout",
          "text": [
            "\b\b\b\b\b\b\b\b\b\b\b\b\b\b\b\b\b\b\b\b\b\b\b\b\b\b\b\b\b\b\b\b\b\b\b\b\b\b\b\b\b\b\b\b\b\b\b\b\b\b\b\b\b\b\b\b\b\b\b\b\b\b\b\b\b\b\b\b\b\b\b\b\b\b\b\b\b\b\b\b\b\b\b\b\r536/536 [==============================] - 2s 5ms/step - loss: 0.3090 - accuracy: 0.8643 - val_loss: 0.4446 - val_accuracy: 0.8493\n",
            "Epoch 65/100\n",
            "529/536 [============================>.] - ETA: 0s - loss: 0.3107 - accuracy: 0.8669"
          ]
        },
        {
          "output_type": "stream",
          "name": "stderr",
          "text": [
            "WARNING:tensorflow:Early stopping conditioned on metric `val_lbss` which is not available. Available metrics are: loss,accuracy,val_loss,val_accuracy\n"
          ]
        },
        {
          "output_type": "stream",
          "name": "stdout",
          "text": [
            "\b\b\b\b\b\b\b\b\b\b\b\b\b\b\b\b\b\b\b\b\b\b\b\b\b\b\b\b\b\b\b\b\b\b\b\b\b\b\b\b\b\b\b\b\b\b\b\b\b\b\b\b\b\b\b\b\b\b\b\b\b\b\b\b\b\b\b\b\b\b\b\b\b\b\b\b\b\b\b\b\b\b\b\b\r536/536 [==============================] - 3s 6ms/step - loss: 0.3112 - accuracy: 0.8668 - val_loss: 0.4151 - val_accuracy: 0.8508\n",
            "Epoch 66/100\n",
            "536/536 [==============================] - ETA: 0s - loss: 0.3129 - accuracy: 0.8675"
          ]
        },
        {
          "output_type": "stream",
          "name": "stderr",
          "text": [
            "WARNING:tensorflow:Early stopping conditioned on metric `val_lbss` which is not available. Available metrics are: loss,accuracy,val_loss,val_accuracy\n"
          ]
        },
        {
          "output_type": "stream",
          "name": "stdout",
          "text": [
            "\b\b\b\b\b\b\b\b\b\b\b\b\b\b\b\b\b\b\b\b\b\b\b\b\b\b\b\b\b\b\b\b\b\b\b\b\b\b\b\b\b\b\b\b\b\b\b\b\b\b\b\b\b\b\b\b\b\b\b\b\b\b\b\b\b\b\b\b\b\b\b\b\b\b\b\b\b\b\b\b\b\b\b\b\r536/536 [==============================] - 2s 5ms/step - loss: 0.3129 - accuracy: 0.8675 - val_loss: 0.3827 - val_accuracy: 0.8489\n",
            "Epoch 67/100\n",
            "525/536 [============================>.] - ETA: 0s - loss: 0.3107 - accuracy: 0.8699"
          ]
        },
        {
          "output_type": "stream",
          "name": "stderr",
          "text": [
            "WARNING:tensorflow:Early stopping conditioned on metric `val_lbss` which is not available. Available metrics are: loss,accuracy,val_loss,val_accuracy\n"
          ]
        },
        {
          "output_type": "stream",
          "name": "stdout",
          "text": [
            "\b\b\b\b\b\b\b\b\b\b\b\b\b\b\b\b\b\b\b\b\b\b\b\b\b\b\b\b\b\b\b\b\b\b\b\b\b\b\b\b\b\b\b\b\b\b\b\b\b\b\b\b\b\b\b\b\b\b\b\b\b\b\b\b\b\b\b\b\b\b\b\b\b\b\b\b\b\b\b\b\b\b\b\b\r536/536 [==============================] - 2s 4ms/step - loss: 0.3095 - accuracy: 0.8709 - val_loss: 0.3839 - val_accuracy: 0.8591\n",
            "Epoch 68/100\n",
            "529/536 [============================>.] - ETA: 0s - loss: 0.3100 - accuracy: 0.8671"
          ]
        },
        {
          "output_type": "stream",
          "name": "stderr",
          "text": [
            "WARNING:tensorflow:Early stopping conditioned on metric `val_lbss` which is not available. Available metrics are: loss,accuracy,val_loss,val_accuracy\n"
          ]
        },
        {
          "output_type": "stream",
          "name": "stdout",
          "text": [
            "\b\b\b\b\b\b\b\b\b\b\b\b\b\b\b\b\b\b\b\b\b\b\b\b\b\b\b\b\b\b\b\b\b\b\b\b\b\b\b\b\b\b\b\b\b\b\b\b\b\b\b\b\b\b\b\b\b\b\b\b\b\b\b\b\b\b\b\b\b\b\b\b\b\b\b\b\b\b\b\b\b\b\b\b\r536/536 [==============================] - 2s 4ms/step - loss: 0.3118 - accuracy: 0.8664 - val_loss: 0.4017 - val_accuracy: 0.8508\n",
            "Epoch 69/100\n",
            "527/536 [============================>.] - ETA: 0s - loss: 0.3125 - accuracy: 0.8677"
          ]
        },
        {
          "output_type": "stream",
          "name": "stderr",
          "text": [
            "WARNING:tensorflow:Early stopping conditioned on metric `val_lbss` which is not available. Available metrics are: loss,accuracy,val_loss,val_accuracy\n"
          ]
        },
        {
          "output_type": "stream",
          "name": "stdout",
          "text": [
            "\b\b\b\b\b\b\b\b\b\b\b\b\b\b\b\b\b\b\b\b\b\b\b\b\b\b\b\b\b\b\b\b\b\b\b\b\b\b\b\b\b\b\b\b\b\b\b\b\b\b\b\b\b\b\b\b\b\b\b\b\b\b\b\b\b\b\b\b\b\b\b\b\b\b\b\b\b\b\b\b\b\b\b\b\r536/536 [==============================] - 3s 5ms/step - loss: 0.3119 - accuracy: 0.8677 - val_loss: 0.4104 - val_accuracy: 0.8485\n",
            "Epoch 70/100\n",
            "527/536 [============================>.] - ETA: 0s - loss: 0.3099 - accuracy: 0.8676"
          ]
        },
        {
          "output_type": "stream",
          "name": "stderr",
          "text": [
            "WARNING:tensorflow:Early stopping conditioned on metric `val_lbss` which is not available. Available metrics are: loss,accuracy,val_loss,val_accuracy\n"
          ]
        },
        {
          "output_type": "stream",
          "name": "stdout",
          "text": [
            "\b\b\b\b\b\b\b\b\b\b\b\b\b\b\b\b\b\b\b\b\b\b\b\b\b\b\b\b\b\b\b\b\b\b\b\b\b\b\b\b\b\b\b\b\b\b\b\b\b\b\b\b\b\b\b\b\b\b\b\b\b\b\b\b\b\b\b\b\b\b\b\b\b\b\b\b\b\b\b\b\b\b\b\b\r536/536 [==============================] - 3s 5ms/step - loss: 0.3099 - accuracy: 0.8677 - val_loss: 0.3992 - val_accuracy: 0.8538\n",
            "Epoch 71/100\n",
            "533/536 [============================>.] - ETA: 0s - loss: 0.3084 - accuracy: 0.8704"
          ]
        },
        {
          "output_type": "stream",
          "name": "stderr",
          "text": [
            "WARNING:tensorflow:Early stopping conditioned on metric `val_lbss` which is not available. Available metrics are: loss,accuracy,val_loss,val_accuracy\n"
          ]
        },
        {
          "output_type": "stream",
          "name": "stdout",
          "text": [
            "\b\b\b\b\b\b\b\b\b\b\b\b\b\b\b\b\b\b\b\b\b\b\b\b\b\b\b\b\b\b\b\b\b\b\b\b\b\b\b\b\b\b\b\b\b\b\b\b\b\b\b\b\b\b\b\b\b\b\b\b\b\b\b\b\b\b\b\b\b\b\b\b\b\b\b\b\b\b\b\b\b\b\b\b\r536/536 [==============================] - 3s 5ms/step - loss: 0.3094 - accuracy: 0.8698 - val_loss: 0.4004 - val_accuracy: 0.8482\n",
            "Epoch 72/100\n",
            "529/536 [============================>.] - ETA: 0s - loss: 0.3123 - accuracy: 0.8648"
          ]
        },
        {
          "output_type": "stream",
          "name": "stderr",
          "text": [
            "WARNING:tensorflow:Early stopping conditioned on metric `val_lbss` which is not available. Available metrics are: loss,accuracy,val_loss,val_accuracy\n"
          ]
        },
        {
          "output_type": "stream",
          "name": "stdout",
          "text": [
            "\b\b\b\b\b\b\b\b\b\b\b\b\b\b\b\b\b\b\b\b\b\b\b\b\b\b\b\b\b\b\b\b\b\b\b\b\b\b\b\b\b\b\b\b\b\b\b\b\b\b\b\b\b\b\b\b\b\b\b\b\b\b\b\b\b\b\b\b\b\b\b\b\b\b\b\b\b\b\b\b\b\b\b\b\r536/536 [==============================] - 2s 5ms/step - loss: 0.3129 - accuracy: 0.8651 - val_loss: 0.4035 - val_accuracy: 0.8584\n",
            "Epoch 73/100\n",
            "527/536 [============================>.] - ETA: 0s - loss: 0.3134 - accuracy: 0.8679"
          ]
        },
        {
          "output_type": "stream",
          "name": "stderr",
          "text": [
            "WARNING:tensorflow:Early stopping conditioned on metric `val_lbss` which is not available. Available metrics are: loss,accuracy,val_loss,val_accuracy\n"
          ]
        },
        {
          "output_type": "stream",
          "name": "stdout",
          "text": [
            "\b\b\b\b\b\b\b\b\b\b\b\b\b\b\b\b\b\b\b\b\b\b\b\b\b\b\b\b\b\b\b\b\b\b\b\b\b\b\b\b\b\b\b\b\b\b\b\b\b\b\b\b\b\b\b\b\b\b\b\b\b\b\b\b\b\b\b\b\b\b\b\b\b\b\b\b\b\b\b\b\b\b\b\b\r536/536 [==============================] - 3s 5ms/step - loss: 0.3128 - accuracy: 0.8679 - val_loss: 0.3901 - val_accuracy: 0.8527\n",
            "Epoch 74/100\n",
            "533/536 [============================>.] - ETA: 0s - loss: 0.3126 - accuracy: 0.8670"
          ]
        },
        {
          "output_type": "stream",
          "name": "stderr",
          "text": [
            "WARNING:tensorflow:Early stopping conditioned on metric `val_lbss` which is not available. Available metrics are: loss,accuracy,val_loss,val_accuracy\n"
          ]
        },
        {
          "output_type": "stream",
          "name": "stdout",
          "text": [
            "\b\b\b\b\b\b\b\b\b\b\b\b\b\b\b\b\b\b\b\b\b\b\b\b\b\b\b\b\b\b\b\b\b\b\b\b\b\b\b\b\b\b\b\b\b\b\b\b\b\b\b\b\b\b\b\b\b\b\b\b\b\b\b\b\b\b\b\b\b\b\b\b\b\b\b\b\b\b\b\b\b\b\b\b\r536/536 [==============================] - 4s 7ms/step - loss: 0.3136 - accuracy: 0.8662 - val_loss: 0.3951 - val_accuracy: 0.8527\n",
            "Epoch 75/100\n",
            "535/536 [============================>.] - ETA: 0s - loss: 0.3075 - accuracy: 0.8695"
          ]
        },
        {
          "output_type": "stream",
          "name": "stderr",
          "text": [
            "WARNING:tensorflow:Early stopping conditioned on metric `val_lbss` which is not available. Available metrics are: loss,accuracy,val_loss,val_accuracy\n"
          ]
        },
        {
          "output_type": "stream",
          "name": "stdout",
          "text": [
            "\b\b\b\b\b\b\b\b\b\b\b\b\b\b\b\b\b\b\b\b\b\b\b\b\b\b\b\b\b\b\b\b\b\b\b\b\b\b\b\b\b\b\b\b\b\b\b\b\b\b\b\b\b\b\b\b\b\b\b\b\b\b\b\b\b\b\b\b\b\b\b\b\b\b\b\b\b\b\b\b\b\b\b\b\r536/536 [==============================] - 3s 5ms/step - loss: 0.3073 - accuracy: 0.8696 - val_loss: 0.4083 - val_accuracy: 0.8516\n",
            "Epoch 76/100\n",
            "534/536 [============================>.] - ETA: 0s - loss: 0.3132 - accuracy: 0.8657"
          ]
        },
        {
          "output_type": "stream",
          "name": "stderr",
          "text": [
            "WARNING:tensorflow:Early stopping conditioned on metric `val_lbss` which is not available. Available metrics are: loss,accuracy,val_loss,val_accuracy\n"
          ]
        },
        {
          "output_type": "stream",
          "name": "stdout",
          "text": [
            "\b\b\b\b\b\b\b\b\b\b\b\b\b\b\b\b\b\b\b\b\b\b\b\b\b\b\b\b\b\b\b\b\b\b\b\b\b\b\b\b\b\b\b\b\b\b\b\b\b\b\b\b\b\b\b\b\b\b\b\b\b\b\b\b\b\b\b\b\b\b\b\b\b\b\b\b\b\b\b\b\b\b\b\b\r536/536 [==============================] - 3s 5ms/step - loss: 0.3128 - accuracy: 0.8660 - val_loss: 0.3825 - val_accuracy: 0.8512\n",
            "Epoch 77/100\n",
            "527/536 [============================>.] - ETA: 0s - loss: 0.3100 - accuracy: 0.8679"
          ]
        },
        {
          "output_type": "stream",
          "name": "stderr",
          "text": [
            "WARNING:tensorflow:Early stopping conditioned on metric `val_lbss` which is not available. Available metrics are: loss,accuracy,val_loss,val_accuracy\n"
          ]
        },
        {
          "output_type": "stream",
          "name": "stdout",
          "text": [
            "\b\b\b\b\b\b\b\b\b\b\b\b\b\b\b\b\b\b\b\b\b\b\b\b\b\b\b\b\b\b\b\b\b\b\b\b\b\b\b\b\b\b\b\b\b\b\b\b\b\b\b\b\b\b\b\b\b\b\b\b\b\b\b\b\b\b\b\b\b\b\b\b\b\b\b\b\b\b\b\b\b\b\b\b\r536/536 [==============================] - 3s 5ms/step - loss: 0.3100 - accuracy: 0.8673 - val_loss: 0.4028 - val_accuracy: 0.8516\n",
            "Epoch 78/100\n",
            "534/536 [============================>.] - ETA: 0s - loss: 0.3098 - accuracy: 0.8667"
          ]
        },
        {
          "output_type": "stream",
          "name": "stderr",
          "text": [
            "WARNING:tensorflow:Early stopping conditioned on metric `val_lbss` which is not available. Available metrics are: loss,accuracy,val_loss,val_accuracy\n"
          ]
        },
        {
          "output_type": "stream",
          "name": "stdout",
          "text": [
            "\b\b\b\b\b\b\b\b\b\b\b\b\b\b\b\b\b\b\b\b\b\b\b\b\b\b\b\b\b\b\b\b\b\b\b\b\b\b\b\b\b\b\b\b\b\b\b\b\b\b\b\b\b\b\b\b\b\b\b\b\b\b\b\b\b\b\b\b\b\b\b\b\b\b\b\b\b\b\b\b\b\b\b\b\r536/536 [==============================] - 3s 6ms/step - loss: 0.3102 - accuracy: 0.8666 - val_loss: 0.3952 - val_accuracy: 0.8485\n",
            "Epoch 79/100\n",
            "531/536 [============================>.] - ETA: 0s - loss: 0.3100 - accuracy: 0.8672"
          ]
        },
        {
          "output_type": "stream",
          "name": "stderr",
          "text": [
            "WARNING:tensorflow:Early stopping conditioned on metric `val_lbss` which is not available. Available metrics are: loss,accuracy,val_loss,val_accuracy\n"
          ]
        },
        {
          "output_type": "stream",
          "name": "stdout",
          "text": [
            "\b\b\b\b\b\b\b\b\b\b\b\b\b\b\b\b\b\b\b\b\b\b\b\b\b\b\b\b\b\b\b\b\b\b\b\b\b\b\b\b\b\b\b\b\b\b\b\b\b\b\b\b\b\b\b\b\b\b\b\b\b\b\b\b\b\b\b\b\b\b\b\b\b\b\b\b\b\b\b\b\b\b\b\b\r536/536 [==============================] - 3s 5ms/step - loss: 0.3102 - accuracy: 0.8668 - val_loss: 0.4054 - val_accuracy: 0.8569\n",
            "Epoch 80/100\n",
            "535/536 [============================>.] - ETA: 0s - loss: 0.3093 - accuracy: 0.8664"
          ]
        },
        {
          "output_type": "stream",
          "name": "stderr",
          "text": [
            "WARNING:tensorflow:Early stopping conditioned on metric `val_lbss` which is not available. Available metrics are: loss,accuracy,val_loss,val_accuracy\n"
          ]
        },
        {
          "output_type": "stream",
          "name": "stdout",
          "text": [
            "\b\b\b\b\b\b\b\b\b\b\b\b\b\b\b\b\b\b\b\b\b\b\b\b\b\b\b\b\b\b\b\b\b\b\b\b\b\b\b\b\b\b\b\b\b\b\b\b\b\b\b\b\b\b\b\b\b\b\b\b\b\b\b\b\b\b\b\b\b\b\b\b\b\b\b\b\b\b\b\b\b\b\b\b\r536/536 [==============================] - 3s 5ms/step - loss: 0.3090 - accuracy: 0.8664 - val_loss: 0.3933 - val_accuracy: 0.8531\n",
            "Epoch 81/100\n",
            "536/536 [==============================] - ETA: 0s - loss: 0.3166 - accuracy: 0.8623"
          ]
        },
        {
          "output_type": "stream",
          "name": "stderr",
          "text": [
            "WARNING:tensorflow:Early stopping conditioned on metric `val_lbss` which is not available. Available metrics are: loss,accuracy,val_loss,val_accuracy\n"
          ]
        },
        {
          "output_type": "stream",
          "name": "stdout",
          "text": [
            "\b\b\b\b\b\b\b\b\b\b\b\b\b\b\b\b\b\b\b\b\b\b\b\b\b\b\b\b\b\b\b\b\b\b\b\b\b\b\b\b\b\b\b\b\b\b\b\b\b\b\b\b\b\b\b\b\b\b\b\b\b\b\b\b\b\b\b\b\b\b\b\b\b\b\b\b\b\b\b\b\b\b\b\b\r536/536 [==============================] - 2s 5ms/step - loss: 0.3166 - accuracy: 0.8623 - val_loss: 0.4039 - val_accuracy: 0.8554\n",
            "Epoch 82/100\n",
            "526/536 [============================>.] - ETA: 0s - loss: 0.3126 - accuracy: 0.8684"
          ]
        },
        {
          "output_type": "stream",
          "name": "stderr",
          "text": [
            "WARNING:tensorflow:Early stopping conditioned on metric `val_lbss` which is not available. Available metrics are: loss,accuracy,val_loss,val_accuracy\n"
          ]
        },
        {
          "output_type": "stream",
          "name": "stdout",
          "text": [
            "\b\b\b\b\b\b\b\b\b\b\b\b\b\b\b\b\b\b\b\b\b\b\b\b\b\b\b\b\b\b\b\b\b\b\b\b\b\b\b\b\b\b\b\b\b\b\b\b\b\b\b\b\b\b\b\b\b\b\b\b\b\b\b\b\b\b\b\b\b\b\b\b\b\b\b\b\b\b\b\b\b\b\b\b\r536/536 [==============================] - 2s 5ms/step - loss: 0.3112 - accuracy: 0.8692 - val_loss: 0.4057 - val_accuracy: 0.8501\n",
            "Epoch 83/100\n",
            "523/536 [============================>.] - ETA: 0s - loss: 0.3094 - accuracy: 0.8683"
          ]
        },
        {
          "output_type": "stream",
          "name": "stderr",
          "text": [
            "WARNING:tensorflow:Early stopping conditioned on metric `val_lbss` which is not available. Available metrics are: loss,accuracy,val_loss,val_accuracy\n"
          ]
        },
        {
          "output_type": "stream",
          "name": "stdout",
          "text": [
            "\b\b\b\b\b\b\b\b\b\b\b\b\b\b\b\b\b\b\b\b\b\b\b\b\b\b\b\b\b\b\b\b\b\b\b\b\b\b\b\b\b\b\b\b\b\b\b\b\b\b\b\b\b\b\b\b\b\b\b\b\b\b\b\b\b\b\b\b\b\b\b\b\b\b\b\b\b\b\b\b\b\b\b\b\r536/536 [==============================] - 3s 6ms/step - loss: 0.3111 - accuracy: 0.8677 - val_loss: 0.3798 - val_accuracy: 0.8519\n",
            "Epoch 84/100\n",
            "528/536 [============================>.] - ETA: 0s - loss: 0.3064 - accuracy: 0.8706"
          ]
        },
        {
          "output_type": "stream",
          "name": "stderr",
          "text": [
            "WARNING:tensorflow:Early stopping conditioned on metric `val_lbss` which is not available. Available metrics are: loss,accuracy,val_loss,val_accuracy\n"
          ]
        },
        {
          "output_type": "stream",
          "name": "stdout",
          "text": [
            "\b\b\b\b\b\b\b\b\b\b\b\b\b\b\b\b\b\b\b\b\b\b\b\b\b\b\b\b\b\b\b\b\b\b\b\b\b\b\b\b\b\b\b\b\b\b\b\b\b\b\b\b\b\b\b\b\b\b\b\b\b\b\b\b\b\b\b\b\b\b\b\b\b\b\b\b\b\b\b\b\b\b\b\b\r536/536 [==============================] - 3s 5ms/step - loss: 0.3064 - accuracy: 0.8707 - val_loss: 0.4357 - val_accuracy: 0.8576\n",
            "Epoch 85/100\n",
            "524/536 [============================>.] - ETA: 0s - loss: 0.3073 - accuracy: 0.8706"
          ]
        },
        {
          "output_type": "stream",
          "name": "stderr",
          "text": [
            "WARNING:tensorflow:Early stopping conditioned on metric `val_lbss` which is not available. Available metrics are: loss,accuracy,val_loss,val_accuracy\n"
          ]
        },
        {
          "output_type": "stream",
          "name": "stdout",
          "text": [
            "\b\b\b\b\b\b\b\b\b\b\b\b\b\b\b\b\b\b\b\b\b\b\b\b\b\b\b\b\b\b\b\b\b\b\b\b\b\b\b\b\b\b\b\b\b\b\b\b\b\b\b\b\b\b\b\b\b\b\b\b\b\b\b\b\b\b\b\b\b\b\b\b\b\b\b\b\b\b\b\b\b\b\b\b\r536/536 [==============================] - 3s 5ms/step - loss: 0.3092 - accuracy: 0.8692 - val_loss: 0.3885 - val_accuracy: 0.8478\n",
            "Epoch 86/100\n",
            "529/536 [============================>.] - ETA: 0s - loss: 0.3092 - accuracy: 0.8671"
          ]
        },
        {
          "output_type": "stream",
          "name": "stderr",
          "text": [
            "WARNING:tensorflow:Early stopping conditioned on metric `val_lbss` which is not available. Available metrics are: loss,accuracy,val_loss,val_accuracy\n"
          ]
        },
        {
          "output_type": "stream",
          "name": "stdout",
          "text": [
            "\b\b\b\b\b\b\b\b\b\b\b\b\b\b\b\b\b\b\b\b\b\b\b\b\b\b\b\b\b\b\b\b\b\b\b\b\b\b\b\b\b\b\b\b\b\b\b\b\b\b\b\b\b\b\b\b\b\b\b\b\b\b\b\b\b\b\b\b\b\b\b\b\b\b\b\b\b\b\b\b\b\b\b\b\r536/536 [==============================] - 3s 5ms/step - loss: 0.3081 - accuracy: 0.8673 - val_loss: 0.4029 - val_accuracy: 0.8493\n",
            "Epoch 87/100\n",
            "532/536 [============================>.] - ETA: 0s - loss: 0.3091 - accuracy: 0.8692"
          ]
        },
        {
          "output_type": "stream",
          "name": "stderr",
          "text": [
            "WARNING:tensorflow:Early stopping conditioned on metric `val_lbss` which is not available. Available metrics are: loss,accuracy,val_loss,val_accuracy\n"
          ]
        },
        {
          "output_type": "stream",
          "name": "stdout",
          "text": [
            "\b\b\b\b\b\b\b\b\b\b\b\b\b\b\b\b\b\b\b\b\b\b\b\b\b\b\b\b\b\b\b\b\b\b\b\b\b\b\b\b\b\b\b\b\b\b\b\b\b\b\b\b\b\b\b\b\b\b\b\b\b\b\b\b\b\b\b\b\b\b\b\b\b\b\b\b\b\b\b\b\b\b\b\b\r536/536 [==============================] - 3s 6ms/step - loss: 0.3086 - accuracy: 0.8692 - val_loss: 0.4080 - val_accuracy: 0.8531\n",
            "Epoch 88/100\n",
            "531/536 [============================>.] - ETA: 0s - loss: 0.3106 - accuracy: 0.8655"
          ]
        },
        {
          "output_type": "stream",
          "name": "stderr",
          "text": [
            "WARNING:tensorflow:Early stopping conditioned on metric `val_lbss` which is not available. Available metrics are: loss,accuracy,val_loss,val_accuracy\n"
          ]
        },
        {
          "output_type": "stream",
          "name": "stdout",
          "text": [
            "\b\b\b\b\b\b\b\b\b\b\b\b\b\b\b\b\b\b\b\b\b\b\b\b\b\b\b\b\b\b\b\b\b\b\b\b\b\b\b\b\b\b\b\b\b\b\b\b\b\b\b\b\b\b\b\b\b\b\b\b\b\b\b\b\b\b\b\b\b\b\b\b\b\b\b\b\b\b\b\b\b\b\b\b\r536/536 [==============================] - 3s 5ms/step - loss: 0.3111 - accuracy: 0.8656 - val_loss: 0.3970 - val_accuracy: 0.8493\n",
            "Epoch 89/100\n",
            "525/536 [============================>.] - ETA: 0s - loss: 0.3087 - accuracy: 0.8655"
          ]
        },
        {
          "output_type": "stream",
          "name": "stderr",
          "text": [
            "WARNING:tensorflow:Early stopping conditioned on metric `val_lbss` which is not available. Available metrics are: loss,accuracy,val_loss,val_accuracy\n"
          ]
        },
        {
          "output_type": "stream",
          "name": "stdout",
          "text": [
            "\b\b\b\b\b\b\b\b\b\b\b\b\b\b\b\b\b\b\b\b\b\b\b\b\b\b\b\b\b\b\b\b\b\b\b\b\b\b\b\b\b\b\b\b\b\b\b\b\b\b\b\b\b\b\b\b\b\b\b\b\b\b\b\b\b\b\b\b\b\b\b\b\b\b\b\b\b\b\b\b\b\b\b\b\r536/536 [==============================] - 2s 4ms/step - loss: 0.3084 - accuracy: 0.8658 - val_loss: 0.4026 - val_accuracy: 0.8478\n",
            "Epoch 90/100\n",
            "529/536 [============================>.] - ETA: 0s - loss: 0.3077 - accuracy: 0.8682"
          ]
        },
        {
          "output_type": "stream",
          "name": "stderr",
          "text": [
            "WARNING:tensorflow:Early stopping conditioned on metric `val_lbss` which is not available. Available metrics are: loss,accuracy,val_loss,val_accuracy\n"
          ]
        },
        {
          "output_type": "stream",
          "name": "stdout",
          "text": [
            "\b\b\b\b\b\b\b\b\b\b\b\b\b\b\b\b\b\b\b\b\b\b\b\b\b\b\b\b\b\b\b\b\b\b\b\b\b\b\b\b\b\b\b\b\b\b\b\b\b\b\b\b\b\b\b\b\b\b\b\b\b\b\b\b\b\b\b\b\b\b\b\b\b\b\b\b\b\b\b\b\b\b\b\b\r536/536 [==============================] - 3s 5ms/step - loss: 0.3077 - accuracy: 0.8684 - val_loss: 0.4095 - val_accuracy: 0.8497\n",
            "Epoch 91/100\n",
            "527/536 [============================>.] - ETA: 0s - loss: 0.3082 - accuracy: 0.8674"
          ]
        },
        {
          "output_type": "stream",
          "name": "stderr",
          "text": [
            "WARNING:tensorflow:Early stopping conditioned on metric `val_lbss` which is not available. Available metrics are: loss,accuracy,val_loss,val_accuracy\n"
          ]
        },
        {
          "output_type": "stream",
          "name": "stdout",
          "text": [
            "\b\b\b\b\b\b\b\b\b\b\b\b\b\b\b\b\b\b\b\b\b\b\b\b\b\b\b\b\b\b\b\b\b\b\b\b\b\b\b\b\b\b\b\b\b\b\b\b\b\b\b\b\b\b\b\b\b\b\b\b\b\b\b\b\b\b\b\b\b\b\b\b\b\b\b\b\b\b\b\b\b\b\b\b\r536/536 [==============================] - 2s 4ms/step - loss: 0.3094 - accuracy: 0.8666 - val_loss: 0.4035 - val_accuracy: 0.8531\n",
            "Epoch 92/100\n",
            "535/536 [============================>.] - ETA: 0s - loss: 0.3124 - accuracy: 0.8660"
          ]
        },
        {
          "output_type": "stream",
          "name": "stderr",
          "text": [
            "WARNING:tensorflow:Early stopping conditioned on metric `val_lbss` which is not available. Available metrics are: loss,accuracy,val_loss,val_accuracy\n"
          ]
        },
        {
          "output_type": "stream",
          "name": "stdout",
          "text": [
            "\b\b\b\b\b\b\b\b\b\b\b\b\b\b\b\b\b\b\b\b\b\b\b\b\b\b\b\b\b\b\b\b\b\b\b\b\b\b\b\b\b\b\b\b\b\b\b\b\b\b\b\b\b\b\b\b\b\b\b\b\b\b\b\b\b\b\b\b\b\b\b\b\b\b\b\b\b\b\b\b\b\b\b\b\r536/536 [==============================] - 3s 6ms/step - loss: 0.3120 - accuracy: 0.8662 - val_loss: 0.3948 - val_accuracy: 0.8478\n",
            "Epoch 93/100\n",
            "534/536 [============================>.] - ETA: 0s - loss: 0.3111 - accuracy: 0.8682"
          ]
        },
        {
          "output_type": "stream",
          "name": "stderr",
          "text": [
            "WARNING:tensorflow:Early stopping conditioned on metric `val_lbss` which is not available. Available metrics are: loss,accuracy,val_loss,val_accuracy\n"
          ]
        },
        {
          "output_type": "stream",
          "name": "stdout",
          "text": [
            "\b\b\b\b\b\b\b\b\b\b\b\b\b\b\b\b\b\b\b\b\b\b\b\b\b\b\b\b\b\b\b\b\b\b\b\b\b\b\b\b\b\b\b\b\b\b\b\b\b\b\b\b\b\b\b\b\b\b\b\b\b\b\b\b\b\b\b\b\b\b\b\b\b\b\b\b\b\b\b\b\b\b\b\b\r536/536 [==============================] - 2s 4ms/step - loss: 0.3106 - accuracy: 0.8686 - val_loss: 0.4051 - val_accuracy: 0.8504\n",
            "Epoch 94/100\n",
            "535/536 [============================>.] - ETA: 0s - loss: 0.3077 - accuracy: 0.8686"
          ]
        },
        {
          "output_type": "stream",
          "name": "stderr",
          "text": [
            "WARNING:tensorflow:Early stopping conditioned on metric `val_lbss` which is not available. Available metrics are: loss,accuracy,val_loss,val_accuracy\n"
          ]
        },
        {
          "output_type": "stream",
          "name": "stdout",
          "text": [
            "\b\b\b\b\b\b\b\b\b\b\b\b\b\b\b\b\b\b\b\b\b\b\b\b\b\b\b\b\b\b\b\b\b\b\b\b\b\b\b\b\b\b\b\b\b\b\b\b\b\b\b\b\b\b\b\b\b\b\b\b\b\b\b\b\b\b\b\b\b\b\b\b\b\b\b\b\b\b\b\b\b\b\b\b\r536/536 [==============================] - 3s 5ms/step - loss: 0.3087 - accuracy: 0.8683 - val_loss: 0.4557 - val_accuracy: 0.8512\n",
            "Epoch 95/100\n",
            "536/536 [==============================] - ETA: 0s - loss: 0.3081 - accuracy: 0.8670"
          ]
        },
        {
          "output_type": "stream",
          "name": "stderr",
          "text": [
            "WARNING:tensorflow:Early stopping conditioned on metric `val_lbss` which is not available. Available metrics are: loss,accuracy,val_loss,val_accuracy\n"
          ]
        },
        {
          "output_type": "stream",
          "name": "stdout",
          "text": [
            "\b\b\b\b\b\b\b\b\b\b\b\b\b\b\b\b\b\b\b\b\b\b\b\b\b\b\b\b\b\b\b\b\b\b\b\b\b\b\b\b\b\b\b\b\b\b\b\b\b\b\b\b\b\b\b\b\b\b\b\b\b\b\b\b\b\b\b\b\b\b\b\b\b\b\b\b\b\b\b\b\b\b\b\b\r536/536 [==============================] - 2s 4ms/step - loss: 0.3081 - accuracy: 0.8670 - val_loss: 0.4194 - val_accuracy: 0.8504\n",
            "Epoch 96/100\n",
            "533/536 [============================>.] - ETA: 0s - loss: 0.3080 - accuracy: 0.8670"
          ]
        },
        {
          "output_type": "stream",
          "name": "stderr",
          "text": [
            "WARNING:tensorflow:Early stopping conditioned on metric `val_lbss` which is not available. Available metrics are: loss,accuracy,val_loss,val_accuracy\n"
          ]
        },
        {
          "output_type": "stream",
          "name": "stdout",
          "text": [
            "\b\b\b\b\b\b\b\b\b\b\b\b\b\b\b\b\b\b\b\b\b\b\b\b\b\b\b\b\b\b\b\b\b\b\b\b\b\b\b\b\b\b\b\b\b\b\b\b\b\b\b\b\b\b\b\b\b\b\b\b\b\b\b\b\b\b\b\b\b\b\b\b\b\b\b\b\b\b\b\b\b\b\b\b\r536/536 [==============================] - 3s 5ms/step - loss: 0.3084 - accuracy: 0.8668 - val_loss: 0.3983 - val_accuracy: 0.8470\n",
            "Epoch 97/100\n",
            "525/536 [============================>.] - ETA: 0s - loss: 0.3112 - accuracy: 0.8665"
          ]
        },
        {
          "output_type": "stream",
          "name": "stderr",
          "text": [
            "WARNING:tensorflow:Early stopping conditioned on metric `val_lbss` which is not available. Available metrics are: loss,accuracy,val_loss,val_accuracy\n"
          ]
        },
        {
          "output_type": "stream",
          "name": "stdout",
          "text": [
            "\b\b\b\b\b\b\b\b\b\b\b\b\b\b\b\b\b\b\b\b\b\b\b\b\b\b\b\b\b\b\b\b\b\b\b\b\b\b\b\b\b\b\b\b\b\b\b\b\b\b\b\b\b\b\b\b\b\b\b\b\b\b\b\b\b\b\b\b\b\b\b\b\b\b\b\b\b\b\b\b\b\b\b\b\r536/536 [==============================] - 3s 6ms/step - loss: 0.3115 - accuracy: 0.8664 - val_loss: 0.3941 - val_accuracy: 0.8497\n",
            "Epoch 98/100\n",
            "533/536 [============================>.] - ETA: 0s - loss: 0.3093 - accuracy: 0.8660"
          ]
        },
        {
          "output_type": "stream",
          "name": "stderr",
          "text": [
            "WARNING:tensorflow:Early stopping conditioned on metric `val_lbss` which is not available. Available metrics are: loss,accuracy,val_loss,val_accuracy\n"
          ]
        },
        {
          "output_type": "stream",
          "name": "stdout",
          "text": [
            "\b\b\b\b\b\b\b\b\b\b\b\b\b\b\b\b\b\b\b\b\b\b\b\b\b\b\b\b\b\b\b\b\b\b\b\b\b\b\b\b\b\b\b\b\b\b\b\b\b\b\b\b\b\b\b\b\b\b\b\b\b\b\b\b\b\b\b\b\b\b\b\b\b\b\b\b\b\b\b\b\b\b\b\b\r536/536 [==============================] - 3s 6ms/step - loss: 0.3096 - accuracy: 0.8658 - val_loss: 0.4193 - val_accuracy: 0.8531\n",
            "Epoch 99/100\n",
            "525/536 [============================>.] - ETA: 0s - loss: 0.3106 - accuracy: 0.8691"
          ]
        },
        {
          "output_type": "stream",
          "name": "stderr",
          "text": [
            "WARNING:tensorflow:Early stopping conditioned on metric `val_lbss` which is not available. Available metrics are: loss,accuracy,val_loss,val_accuracy\n"
          ]
        },
        {
          "output_type": "stream",
          "name": "stdout",
          "text": [
            "\b\b\b\b\b\b\b\b\b\b\b\b\b\b\b\b\b\b\b\b\b\b\b\b\b\b\b\b\b\b\b\b\b\b\b\b\b\b\b\b\b\b\b\b\b\b\b\b\b\b\b\b\b\b\b\b\b\b\b\b\b\b\b\b\b\b\b\b\b\b\b\b\b\b\b\b\b\b\b\b\b\b\b\b\r536/536 [==============================] - 2s 4ms/step - loss: 0.3099 - accuracy: 0.8690 - val_loss: 0.3958 - val_accuracy: 0.8512\n",
            "Epoch 100/100\n",
            "530/536 [============================>.] - ETA: 0s - loss: 0.3102 - accuracy: 0.8662"
          ]
        },
        {
          "output_type": "stream",
          "name": "stderr",
          "text": [
            "WARNING:tensorflow:Early stopping conditioned on metric `val_lbss` which is not available. Available metrics are: loss,accuracy,val_loss,val_accuracy\n"
          ]
        },
        {
          "output_type": "stream",
          "name": "stdout",
          "text": [
            "\b\b\b\b\b\b\b\b\b\b\b\b\b\b\b\b\b\b\b\b\b\b\b\b\b\b\b\b\b\b\b\b\b\b\b\b\b\b\b\b\b\b\b\b\b\b\b\b\b\b\b\b\b\b\b\b\b\b\b\b\b\b\b\b\b\b\b\b\b\b\b\b\b\b\b\b\b\b\b\b\b\b\b\b\r536/536 [==============================] - 2s 5ms/step - loss: 0.3107 - accuracy: 0.8660 - val_loss: 0.3941 - val_accuracy: 0.8466\n"
          ]
        }
      ]
    },
    {
      "cell_type": "code",
      "source": [
        "model_history.history.keys()"
      ],
      "metadata": {
        "id": "2i_t74OHfbNB",
        "colab": {
          "base_uri": "https://localhost:8080/"
        },
        "outputId": "d20ba6d8-c18c-4f64-8e41-0bcced8507a6"
      },
      "execution_count": 57,
      "outputs": [
        {
          "output_type": "execute_result",
          "data": {
            "text/plain": [
              "dict_keys(['loss', 'accuracy', 'val_loss', 'val_accuracy'])"
            ]
          },
          "metadata": {},
          "execution_count": 57
        }
      ]
    },
    {
      "cell_type": "code",
      "source": [
        "#summarize history for accuracy\n",
        "plt.plot(model_history.history['accuracy'])\n",
        "plt.plot(model_history.history['val_accuracy'])\n",
        "plt.title('Model Accuracy')\n",
        "plt.ylabel('Accuracy')\n",
        "plt.xlabel('epoch')\n",
        "plt.legend(['train','test'],loc='upper left')\n",
        "plt.show()"
      ],
      "metadata": {
        "id": "2oMk_8EQfbKt",
        "colab": {
          "base_uri": "https://localhost:8080/",
          "height": 472
        },
        "outputId": "d55a7983-3604-43b4-b2cb-521c35b39a61"
      },
      "execution_count": 58,
      "outputs": [
        {
          "output_type": "display_data",
          "data": {
            "text/plain": [
              "<Figure size 640x480 with 1 Axes>"
            ],
            "image/png": "[encoded data removed]"
          },
          "metadata": {}
        }
      ]
    },
    {
      "cell_type": "code",
      "source": [
        "#summarize history for loss\n",
        "plt.plot(model_history.history['loss'])\n",
        "plt.plot(model_history.history['val_loss'])\n",
        "plt.title('Model Loss')\n",
        "plt.ylabel('loss')\n",
        "plt.xlabel('epoch')\n",
        "plt.legend(['train','test'],loc='upper left')\n",
        "plt.show()"
      ],
      "metadata": {
        "id": "VpZNWkWRfbH0",
        "colab": {
          "base_uri": "https://localhost:8080/",
          "height": 472
        },
        "outputId": "cbdcbef4-1e11-44e7-8439-86edbcdd7256"
      },
      "execution_count": 59,
      "outputs": [
        {
          "output_type": "display_data",
          "data": {
            "text/plain": [
              "<Figure size 640x480 with 1 Axes>"
            ],
            "image/png": "[encoded data removed]"
          },
          "metadata": {}
        }
      ]
    },
    {
      "cell_type": "code",
      "source": [],
      "metadata": {
        "id": "Hadu6l_rfbFQ"
      },
      "execution_count": null,
      "outputs": []
    },
    {
      "cell_type": "markdown",
      "source": [
        "# **PART 3 Makin predicitons and evaluating Model**"
      ],
      "metadata": {
        "id": "auOMSTRtEVgN"
      }
    },
    {
      "cell_type": "code",
      "source": [
        "y_pred = classifier.predict(X_test)\n",
        "y_pred = (y_pred >= 0.5)"
      ],
      "metadata": {
        "id": "jCvAWIXkfbC-",
        "colab": {
          "base_uri": "https://localhost:8080/"
        },
        "outputId": "c016add2-aed5-46e5-a7fb-e554d2488302"
      },
      "execution_count": 60,
      "outputs": [
        {
          "output_type": "stream",
          "name": "stdout",
          "text": [
            "63/63 [==============================] - 0s 1ms/step\n"
          ]
        }
      ]
    },
    {
      "cell_type": "code",
      "source": [
        "#make the confusion matrix\n",
        "from sklearn.metrics import confusion_matrix\n",
        "cm = confusion_matrix(y_test, y_pred)\n",
        "cm"
      ],
      "metadata": {
        "id": "1-slnVZIfa_H",
        "colab": {
          "base_uri": "https://localhost:8080/"
        },
        "outputId": "4750d5c6-f9ae-476b-cafd-1db4d15dd022"
      },
      "execution_count": 61,
      "outputs": [
        {
          "output_type": "execute_result",
          "data": {
            "text/plain": [
              "array([[1572,   23],\n",
              "       [ 250,  155]])"
            ]
          },
          "metadata": {},
          "execution_count": 61
        }
      ]
    },
    {
      "cell_type": "code",
      "source": [
        "#calculate accuracy \n",
        "from sklearn.metrics import accuracy_score\n",
        "score = accuracy_score(y_pred,y_test)"
      ],
      "metadata": {
        "id": "fAnnmBhjfa8d"
      },
      "execution_count": 62,
      "outputs": []
    },
    {
      "cell_type": "code",
      "source": [
        "score"
      ],
      "metadata": {
        "id": "syCH0oRgfa5-",
        "colab": {
          "base_uri": "https://localhost:8080/"
        },
        "outputId": "719c71c6-9789-4912-b520-00450e7e840d"
      },
      "execution_count": 63,
      "outputs": [
        {
          "output_type": "execute_result",
          "data": {
            "text/plain": [
              "0.8635"
            ]
          },
          "metadata": {},
          "execution_count": 63
        }
      ]
    },
    {
      "cell_type": "code",
      "source": [
        "#get the weights\n",
        "classifier.get_weights()"
      ],
      "metadata": {
        "id": "2QJc3mhqfa3u",
        "colab": {
          "base_uri": "https://localhost:8080/"
        },
        "outputId": "683e0c80-e318-4139-8fb2-e11e6788cafa"
      },
      "execution_count": 64,
      "outputs": [
        {
          "output_type": "execute_result",
          "data": {
            "text/plain": [
              "[array([[-1.0515045 , -0.40910536,  2.099723  , -0.3381779 , -0.03724833,\n",
              "         -0.4889662 , -0.48756653,  2.0191913 , -0.8631191 ,  0.5913222 ,\n",
              "         -0.44310126],\n",
              "        [-3.8220713 , -2.8528645 ,  1.0814528 ,  0.8259519 , -3.1007657 ,\n",
              "          4.3356714 , -0.25221506, -1.9836768 ,  0.35171112,  2.0419574 ,\n",
              "         -4.585919  ],\n",
              "        [ 1.4141277 ,  0.0826645 ,  0.27901927,  0.47982743, -1.9191474 ,\n",
              "          0.89821804,  2.8561437 ,  2.001762  ,  0.78513646, -3.0073    ,\n",
              "         -0.28313887],\n",
              "        [ 3.0511796 ,  2.6823294 , -4.640541  ,  0.77887666, -3.3923855 ,\n",
              "         -1.2656093 , -2.846713  , -3.5231133 , -4.43175   ,  1.5940573 ,\n",
              "         -0.17801751],\n",
              "        [-1.5897121 , -0.12698884, -2.3992012 ,  4.989032  , -3.8106508 ,\n",
              "          1.6000549 , -1.4537141 , -0.64137334, -5.4179025 , -0.8576142 ,\n",
              "          0.45899975],\n",
              "        [ 1.1049889 ,  1.561554  , -0.2767747 ,  0.40524426,  2.0824032 ,\n",
              "          0.7827234 ,  1.9172404 , -1.3398142 ,  0.3742556 , -1.0287814 ,\n",
              "          0.2806481 ],\n",
              "        [-0.07100645,  3.735889  ,  3.615508  , -0.9386474 , -0.50733167,\n",
              "          3.5888958 ,  2.3515122 , -1.0179908 , -1.4524581 , -0.6391045 ,\n",
              "         -0.25112942],\n",
              "        [ 0.69463855,  0.6145241 ,  0.22576115, -0.33377352, -1.6068263 ,\n",
              "          0.88756067, -2.594397  , -1.915344  ,  1.4266192 , -0.27494562,\n",
              "          0.6310397 ],\n",
              "        [-1.1770884 ,  1.3385969 , -0.18368891, -0.3706864 ,  1.2867132 ,\n",
              "          1.2037603 , -1.2398158 , -0.9570642 ,  3.7011986 , -1.0134947 ,\n",
              "         -0.02132893],\n",
              "        [ 0.71209323, -0.74042434, -0.52782   ,  1.2400078 ,  0.94892937,\n",
              "          1.0287535 ,  3.5127754 , -1.6799068 ,  0.25066435, -2.4001508 ,\n",
              "         -0.4931104 ],\n",
              "        [-1.4818578 ,  1.53299   ,  3.712474  ,  0.17284088,  0.9293415 ,\n",
              "         -0.8891076 ,  0.92569685,  2.3573415 , -0.33830565,  2.337576  ,\n",
              "          0.3924141 ]], dtype=float32),\n",
              " array([-6.7495522 , -3.305009  ,  0.34367162, -6.9345846 , -6.326571  ,\n",
              "        -6.08967   , -0.16093883, -4.044444  , -1.7076856 , -2.8415534 ,\n",
              "         6.5731196 ], dtype=float32),\n",
              " array([[-7.35627174e+00, -1.68464780e+00,  1.15633106e+00,\n",
              "          2.85589099e+00, -7.14613497e-01, -6.13415289e+00,\n",
              "          3.71942937e-01],\n",
              "        [ 7.76040792e-01, -2.22953439e+00,  2.56138086e-01,\n",
              "         -7.24543428e+00,  2.17308664e+00, -1.05566955e+00,\n",
              "          1.10826373e+00],\n",
              "        [ 9.62507486e-01, -1.72516301e-01, -7.45447516e-01,\n",
              "         -6.41474342e+00, -2.87884545e+00, -3.66974998e+00,\n",
              "          1.77412286e-01],\n",
              "        [-3.58679533e+00, -4.61033970e-01, -1.11137331e+00,\n",
              "          3.95917225e+00,  1.61945486e+00,  3.60808730e+00,\n",
              "         -6.70277691e+00],\n",
              "        [ 5.53870022e-01, -8.13978958e+00,  1.78921151e+00,\n",
              "         -1.53055465e+00, -3.65073115e-01, -2.23211169e+00,\n",
              "          9.49879408e-01],\n",
              "        [ 2.47638226e+00, -2.73133087e+00,  4.77812409e-01,\n",
              "         -5.38038683e+00, -2.44077301e+00,  1.42446089e+00,\n",
              "          2.45207310e+00],\n",
              "        [-4.47798193e-01,  1.01846230e+00, -5.35960627e+00,\n",
              "         -6.53596687e+00,  6.07379317e-01, -5.00059366e+00,\n",
              "         -3.31101101e-03],\n",
              "        [-1.18899256e-01,  7.01393306e-01,  3.91734266e+00,\n",
              "         -4.19192123e+00, -3.01097059e+00, -9.90313828e-01,\n",
              "          1.92602441e-01],\n",
              "        [-5.69382715e+00, -2.12974858e+00, -1.67406857e+00,\n",
              "         -2.49323890e-01, -3.03576326e+00, -1.22371030e+00,\n",
              "         -5.90450108e-01],\n",
              "        [ 1.97833225e-01, -2.05646276e+00,  9.64737475e-01,\n",
              "          9.03990328e-01, -1.34449327e+00, -4.57608128e+00,\n",
              "          3.24758366e-02],\n",
              "        [ 7.09774196e-01,  1.67090774e+00, -1.18176579e+00,\n",
              "         -1.55512893e+00, -2.07867026e+00,  8.72851670e-01,\n",
              "          2.23227501e+00]], dtype=float32),\n",
              " array([ 0.7751917,  3.70915  , -3.6246512,  2.4895327,  1.9708571,\n",
              "        -1.9702399, -1.1745332], dtype=float32),\n",
              " array([[-0.38668716, -0.38497904, -1.0814108 , -0.42489532,  0.5016808 ,\n",
              "         -0.8533868 ],\n",
              "        [ 0.33387366, -1.3295181 , -1.747655  , -0.7751956 ,  0.5710521 ,\n",
              "         -1.9216659 ],\n",
              "        [-0.8764299 , -0.03269998, -0.74518675,  0.06084406,  1.6903818 ,\n",
              "         -0.9650965 ],\n",
              "        [-2.1864338 , -0.16841032,  1.4588212 , -2.3566892 , -1.6248837 ,\n",
              "          1.0130447 ],\n",
              "        [ 1.6903601 ,  0.43276924,  1.8981042 , -0.50770193,  2.7471201 ,\n",
              "         -0.01859886],\n",
              "        [-0.9032218 , -1.3121924 ,  1.0367719 , -0.05455002, -1.7142888 ,\n",
              "          0.32077608],\n",
              "        [ 0.15353307, -0.67454153, -1.295064  , -0.55152243,  0.33251426,\n",
              "         -1.1809965 ]], dtype=float32),\n",
              " array([-2.349752 , -2.5143352,  4.1033883, -3.7775915, -2.6755383,\n",
              "        -2.8259797], dtype=float32),\n",
              " array([[-0.02012425],\n",
              "        [ 0.14023446],\n",
              "        [ 0.5070675 ],\n",
              "        [ 0.0586247 ],\n",
              "        [-0.20046382],\n",
              "        [-0.2283325 ]], dtype=float32),\n",
              " array([-0.13676639], dtype=float32)]"
            ]
          },
          "metadata": {},
          "execution_count": 64
        }
      ]
    },
    {
      "cell_type": "code",
      "source": [],
      "metadata": {
        "id": "wKNE8cQFfa1y"
      },
      "execution_count": null,
      "outputs": []
    },
    {
      "cell_type": "code",
      "source": [],
      "metadata": {
        "id": "15O2LscyfayY"
      },
      "execution_count": null,
      "outputs": []
    },
    {
      "cell_type": "code",
      "source": [],
      "metadata": {
        "id": "r3PJMtAtfav3"
      },
      "execution_count": null,
      "outputs": []
    },
    {
      "cell_type": "code",
      "source": [],
      "metadata": {
        "id": "IrxR7_hqfatR"
      },
      "execution_count": null,
      "outputs": []
    },
    {
      "cell_type": "code",
      "source": [],
      "metadata": {
        "id": "Y3GwJlLafaq-"
      },
      "execution_count": null,
      "outputs": []
    },
    {
      "cell_type": "code",
      "source": [],
      "metadata": {
        "id": "ZoUN86AZfaoj"
      },
      "execution_count": null,
      "outputs": []
    },
    {
      "cell_type": "code",
      "source": [],
      "metadata": {
        "id": "D-VGvDAHfamC"
      },
      "execution_count": null,
      "outputs": []
    },
    {
      "cell_type": "code",
      "source": [],
      "metadata": {
        "id": "mxM7FiASfaju"
      },
      "execution_count": null,
      "outputs": []
    },
    {
      "cell_type": "code",
      "source": [],
      "metadata": {
        "id": "iB0ADzS0fahk"
      },
      "execution_count": null,
      "outputs": []
    },
    {
      "cell_type": "code",
      "source": [],
      "metadata": {
        "id": "e2wAEmeKfae_"
      },
      "execution_count": null,
      "outputs": []
    },
    {
      "cell_type": "code",
      "source": [],
      "metadata": {
        "id": "_wwhAkpcfaco"
      },
      "execution_count": null,
      "outputs": []
    },
    {
      "cell_type": "code",
      "source": [],
      "metadata": {
        "id": "s8zYHIcCfaaG"
      },
      "execution_count": null,
      "outputs": []
    },
    {
      "cell_type": "code",
      "source": [],
      "metadata": {
        "id": "_dL6yH2IfaXt"
      },
      "execution_count": null,
      "outputs": []
    },
    {
      "cell_type": "code",
      "source": [],
      "metadata": {
        "id": "Dbt_hljVfaVU"
      },
      "execution_count": null,
      "outputs": []
    },
    {
      "cell_type": "code",
      "source": [],
      "metadata": {
        "id": "ouWGuA0qfaSw"
      },
      "execution_count": null,
      "outputs": []
    },
    {
      "cell_type": "code",
      "source": [],
      "metadata": {
        "id": "TdIg7EQIfaQF"
      },
      "execution_count": null,
      "outputs": []
    },
    {
      "cell_type": "code",
      "source": [],
      "metadata": {
        "id": "nJuZx4QmfaL0"
      },
      "execution_count": null,
      "outputs": []
    },
    {
      "cell_type": "code",
      "source": [],
      "metadata": {
        "id": "XO0HN4jqfaAf"
      },
      "execution_count": null,
      "outputs": []
    },
    {
      "cell_type": "code",
      "source": [],
      "metadata": {
        "id": "65AAWBN2fZv-"
      },
      "execution_count": null,
      "outputs": []
    },
    {
      "cell_type": "code",
      "source": [],
      "metadata": {
        "id": "mOPdms2nfSAY"
      },
      "execution_count": null,
      "outputs": []
    }
  ]
}